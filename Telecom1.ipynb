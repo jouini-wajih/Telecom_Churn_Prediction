{
 "cells": [
  {
   "cell_type": "markdown",
   "metadata": {
    "id": "pJLV2yus0JGn"
   },
   "source": [
    "import needed libreries "
   ]
  },
  {
   "cell_type": "code",
   "execution_count": 67,
   "metadata": {
    "id": "K57WCOjoYRF2"
   },
   "outputs": [],
   "source": [
    "import pandas as pd\n",
    "import numpy as np\n",
    "import matplotlib.pyplot as plt\n",
    "from pandas.core.indexes.period import Index\n",
    "from sklearn.preprocessing import LabelEncoder\n",
    "from sklearn.model_selection import train_test_split\n",
    "from sklearn.linear_model import LogisticRegression\n",
    "from sklearn.metrics import confusion_matrix\n",
    "from sklearn.tree import DecisionTreeClassifier \n",
    "from sklearn.ensemble import RandomForestClassifier\n",
    "from sklearn.preprocessing import StandardScaler\n",
    "import seaborn as sns\n",
    "from sklearn.metrics import accuracy_score, f1_score, recall_score, precision_score"
   ]
  },
  {
   "cell_type": "markdown",
   "metadata": {},
   "source": [
    "import the dataset"
   ]
  },
  {
   "cell_type": "code",
   "execution_count": 2,
   "metadata": {
    "id": "d-22pCnsZhTo"
   },
   "outputs": [],
   "source": [
    "data = pd.read_csv(\"dataset_telecom.csv\",encoding='latin-1')"
   ]
  },
  {
   "cell_type": "code",
   "execution_count": 3,
   "metadata": {
    "colab": {
     "base_uri": "https://localhost:8080/",
     "height": 1000
    },
    "id": "f2RiDyHmvQC6",
    "outputId": "45130cf3-fdc3-47c4-b194-b6bb8d01dc81"
   },
   "outputs": [
    {
     "data": {
      "text/html": [
       "<div>\n",
       "<style scoped>\n",
       "    .dataframe tbody tr th:only-of-type {\n",
       "        vertical-align: middle;\n",
       "    }\n",
       "\n",
       "    .dataframe tbody tr th {\n",
       "        vertical-align: top;\n",
       "    }\n",
       "\n",
       "    .dataframe thead th {\n",
       "        text-align: right;\n",
       "    }\n",
       "</style>\n",
       "<table border=\"1\" class=\"dataframe\">\n",
       "  <thead>\n",
       "    <tr style=\"text-align: right;\">\n",
       "      <th></th>\n",
       "      <th>id_client</th>\n",
       "      <th>nb_jours_abonne</th>\n",
       "      <th>duree_appel_jour(minutes)</th>\n",
       "      <th>nb_appel_jour</th>\n",
       "      <th>cout_appel_jour</th>\n",
       "      <th>duree_appel_soiree(minutes)</th>\n",
       "      <th>nb_appel_soiree</th>\n",
       "      <th>cout_appel_soiree</th>\n",
       "      <th>duree_appel_nuit(minutes)</th>\n",
       "      <th>nb_appel_nuit</th>\n",
       "      <th>cout_appel_nuit</th>\n",
       "      <th>duree_appel_inter(minutes)</th>\n",
       "      <th>nb_appel_inter</th>\n",
       "      <th>cout_appel_inter</th>\n",
       "      <th>active_msg_vocaux</th>\n",
       "      <th>nb_msg_vocaux</th>\n",
       "      <th>nb_reclamation</th>\n",
       "      <th>churn</th>\n",
       "    </tr>\n",
       "  </thead>\n",
       "  <tbody>\n",
       "    <tr>\n",
       "      <th>0</th>\n",
       "      <td>382-4657</td>\n",
       "      <td>128.0</td>\n",
       "      <td>265.1</td>\n",
       "      <td>110.0</td>\n",
       "      <td>45.07</td>\n",
       "      <td>197.4</td>\n",
       "      <td>99.0</td>\n",
       "      <td>16.78</td>\n",
       "      <td>244.7</td>\n",
       "      <td>91.0</td>\n",
       "      <td>11.01</td>\n",
       "      <td>10.0</td>\n",
       "      <td>3.0</td>\n",
       "      <td>2.70</td>\n",
       "      <td>yes</td>\n",
       "      <td>25</td>\n",
       "      <td>1.0</td>\n",
       "      <td>False.</td>\n",
       "    </tr>\n",
       "    <tr>\n",
       "      <th>1</th>\n",
       "      <td>371-7191</td>\n",
       "      <td>107.0</td>\n",
       "      <td>161.6</td>\n",
       "      <td>123.0</td>\n",
       "      <td>27.47</td>\n",
       "      <td>195.5</td>\n",
       "      <td>103.0</td>\n",
       "      <td>16.62</td>\n",
       "      <td>254.4</td>\n",
       "      <td>103.0</td>\n",
       "      <td>11.45</td>\n",
       "      <td>13.7</td>\n",
       "      <td>3.0</td>\n",
       "      <td>3.70</td>\n",
       "      <td>yes</td>\n",
       "      <td>26</td>\n",
       "      <td>1.0</td>\n",
       "      <td>False.</td>\n",
       "    </tr>\n",
       "    <tr>\n",
       "      <th>2</th>\n",
       "      <td>358-1921</td>\n",
       "      <td>137.0</td>\n",
       "      <td>243.4</td>\n",
       "      <td>114.0</td>\n",
       "      <td>41.38</td>\n",
       "      <td>121.2</td>\n",
       "      <td>110.0</td>\n",
       "      <td>10.30</td>\n",
       "      <td>162.6</td>\n",
       "      <td>104.0</td>\n",
       "      <td>7.32</td>\n",
       "      <td>12.2</td>\n",
       "      <td>5.0</td>\n",
       "      <td>3.29</td>\n",
       "      <td>no</td>\n",
       "      <td>0</td>\n",
       "      <td>0.0</td>\n",
       "      <td>False.</td>\n",
       "    </tr>\n",
       "    <tr>\n",
       "      <th>3</th>\n",
       "      <td>375-9999</td>\n",
       "      <td>84.0</td>\n",
       "      <td>299.4</td>\n",
       "      <td>71.0</td>\n",
       "      <td>50.90</td>\n",
       "      <td>61.9</td>\n",
       "      <td>88.0</td>\n",
       "      <td>5.26</td>\n",
       "      <td>196.9</td>\n",
       "      <td>89.0</td>\n",
       "      <td>8.86</td>\n",
       "      <td>6.6</td>\n",
       "      <td>7.0</td>\n",
       "      <td>1.78</td>\n",
       "      <td>no</td>\n",
       "      <td>0</td>\n",
       "      <td>2.0</td>\n",
       "      <td>False.</td>\n",
       "    </tr>\n",
       "    <tr>\n",
       "      <th>4</th>\n",
       "      <td>330-6626</td>\n",
       "      <td>75.0</td>\n",
       "      <td>166.7</td>\n",
       "      <td>113.0</td>\n",
       "      <td>28.34</td>\n",
       "      <td>148.3</td>\n",
       "      <td>122.0</td>\n",
       "      <td>12.61</td>\n",
       "      <td>186.9</td>\n",
       "      <td>121.0</td>\n",
       "      <td>8.41</td>\n",
       "      <td>10.1</td>\n",
       "      <td>3.0</td>\n",
       "      <td>2.73</td>\n",
       "      <td>no</td>\n",
       "      <td>0</td>\n",
       "      <td>3.0</td>\n",
       "      <td>False.</td>\n",
       "    </tr>\n",
       "    <tr>\n",
       "      <th>...</th>\n",
       "      <td>...</td>\n",
       "      <td>...</td>\n",
       "      <td>...</td>\n",
       "      <td>...</td>\n",
       "      <td>...</td>\n",
       "      <td>...</td>\n",
       "      <td>...</td>\n",
       "      <td>...</td>\n",
       "      <td>...</td>\n",
       "      <td>...</td>\n",
       "      <td>...</td>\n",
       "      <td>...</td>\n",
       "      <td>...</td>\n",
       "      <td>...</td>\n",
       "      <td>...</td>\n",
       "      <td>...</td>\n",
       "      <td>...</td>\n",
       "      <td>...</td>\n",
       "    </tr>\n",
       "    <tr>\n",
       "      <th>4995</th>\n",
       "      <td>365-8751</td>\n",
       "      <td>50.0</td>\n",
       "      <td>235.7</td>\n",
       "      <td>127.0</td>\n",
       "      <td>40.07</td>\n",
       "      <td>223.0</td>\n",
       "      <td>126.0</td>\n",
       "      <td>18.96</td>\n",
       "      <td>297.5</td>\n",
       "      <td>116.0</td>\n",
       "      <td>13.39</td>\n",
       "      <td>9.9</td>\n",
       "      <td>5.0</td>\n",
       "      <td>2.67</td>\n",
       "      <td>yes</td>\n",
       "      <td>40</td>\n",
       "      <td>2.0</td>\n",
       "      <td>False.</td>\n",
       "    </tr>\n",
       "    <tr>\n",
       "      <th>4996</th>\n",
       "      <td>334-9736</td>\n",
       "      <td>152.0</td>\n",
       "      <td>184.2</td>\n",
       "      <td>90.0</td>\n",
       "      <td>31.31</td>\n",
       "      <td>256.8</td>\n",
       "      <td>73.0</td>\n",
       "      <td>21.83</td>\n",
       "      <td>213.6</td>\n",
       "      <td>113.0</td>\n",
       "      <td>9.61</td>\n",
       "      <td>14.7</td>\n",
       "      <td>2.0</td>\n",
       "      <td>3.97</td>\n",
       "      <td>no</td>\n",
       "      <td>0</td>\n",
       "      <td>3.0</td>\n",
       "      <td>True.</td>\n",
       "    </tr>\n",
       "    <tr>\n",
       "      <th>4997</th>\n",
       "      <td>333-6861</td>\n",
       "      <td>61.0</td>\n",
       "      <td>140.6</td>\n",
       "      <td>89.0</td>\n",
       "      <td>23.90</td>\n",
       "      <td>172.8</td>\n",
       "      <td>128.0</td>\n",
       "      <td>14.69</td>\n",
       "      <td>212.4</td>\n",
       "      <td>97.0</td>\n",
       "      <td>9.56</td>\n",
       "      <td>13.6</td>\n",
       "      <td>4.0</td>\n",
       "      <td>3.67</td>\n",
       "      <td>no</td>\n",
       "      <td>0</td>\n",
       "      <td>1.0</td>\n",
       "      <td>False.</td>\n",
       "    </tr>\n",
       "    <tr>\n",
       "      <th>4998</th>\n",
       "      <td>394-2206</td>\n",
       "      <td>109.0</td>\n",
       "      <td>188.8</td>\n",
       "      <td>67.0</td>\n",
       "      <td>32.10</td>\n",
       "      <td>171.7</td>\n",
       "      <td>92.0</td>\n",
       "      <td>14.59</td>\n",
       "      <td>224.4</td>\n",
       "      <td>89.0</td>\n",
       "      <td>10.10</td>\n",
       "      <td>8.5</td>\n",
       "      <td>6.0</td>\n",
       "      <td>2.30</td>\n",
       "      <td>no</td>\n",
       "      <td>0</td>\n",
       "      <td>0.0</td>\n",
       "      <td>False.</td>\n",
       "    </tr>\n",
       "    <tr>\n",
       "      <th>4999</th>\n",
       "      <td>373-8058</td>\n",
       "      <td>86.0</td>\n",
       "      <td>129.4</td>\n",
       "      <td>102.0</td>\n",
       "      <td>22.00</td>\n",
       "      <td>267.1</td>\n",
       "      <td>104.0</td>\n",
       "      <td>22.70</td>\n",
       "      <td>154.8</td>\n",
       "      <td>100.0</td>\n",
       "      <td>6.97</td>\n",
       "      <td>9.3</td>\n",
       "      <td>16.0</td>\n",
       "      <td>2.51</td>\n",
       "      <td>yes</td>\n",
       "      <td>34</td>\n",
       "      <td>0.0</td>\n",
       "      <td>False.</td>\n",
       "    </tr>\n",
       "  </tbody>\n",
       "</table>\n",
       "<p>5000 rows × 18 columns</p>\n",
       "</div>"
      ],
      "text/plain": [
       "      id_client  nb_jours_abonne  duree_appel_jour(minutes)  nb_appel_jour  \\\n",
       "0      382-4657            128.0                      265.1          110.0   \n",
       "1      371-7191            107.0                      161.6          123.0   \n",
       "2      358-1921            137.0                      243.4          114.0   \n",
       "3      375-9999             84.0                      299.4           71.0   \n",
       "4      330-6626             75.0                      166.7          113.0   \n",
       "...         ...              ...                        ...            ...   \n",
       "4995   365-8751             50.0                      235.7          127.0   \n",
       "4996   334-9736            152.0                      184.2           90.0   \n",
       "4997   333-6861             61.0                      140.6           89.0   \n",
       "4998   394-2206            109.0                      188.8           67.0   \n",
       "4999   373-8058             86.0                      129.4          102.0   \n",
       "\n",
       "      cout_appel_jour  duree_appel_soiree(minutes)  nb_appel_soiree  \\\n",
       "0               45.07                        197.4             99.0   \n",
       "1               27.47                        195.5            103.0   \n",
       "2               41.38                        121.2            110.0   \n",
       "3               50.90                         61.9             88.0   \n",
       "4               28.34                        148.3            122.0   \n",
       "...               ...                          ...              ...   \n",
       "4995            40.07                        223.0            126.0   \n",
       "4996            31.31                        256.8             73.0   \n",
       "4997            23.90                        172.8            128.0   \n",
       "4998            32.10                        171.7             92.0   \n",
       "4999            22.00                        267.1            104.0   \n",
       "\n",
       "      cout_appel_soiree  duree_appel_nuit(minutes)  nb_appel_nuit  \\\n",
       "0                 16.78                      244.7           91.0   \n",
       "1                 16.62                      254.4          103.0   \n",
       "2                 10.30                      162.6          104.0   \n",
       "3                  5.26                      196.9           89.0   \n",
       "4                 12.61                      186.9          121.0   \n",
       "...                 ...                        ...            ...   \n",
       "4995              18.96                      297.5          116.0   \n",
       "4996              21.83                      213.6          113.0   \n",
       "4997              14.69                      212.4           97.0   \n",
       "4998              14.59                      224.4           89.0   \n",
       "4999              22.70                      154.8          100.0   \n",
       "\n",
       "      cout_appel_nuit  duree_appel_inter(minutes)  nb_appel_inter  \\\n",
       "0               11.01                        10.0             3.0   \n",
       "1               11.45                        13.7             3.0   \n",
       "2                7.32                        12.2             5.0   \n",
       "3                8.86                         6.6             7.0   \n",
       "4                8.41                        10.1             3.0   \n",
       "...               ...                         ...             ...   \n",
       "4995            13.39                         9.9             5.0   \n",
       "4996             9.61                        14.7             2.0   \n",
       "4997             9.56                        13.6             4.0   \n",
       "4998            10.10                         8.5             6.0   \n",
       "4999             6.97                         9.3            16.0   \n",
       "\n",
       "      cout_appel_inter active_msg_vocaux  nb_msg_vocaux  nb_reclamation  \\\n",
       "0                 2.70               yes             25             1.0   \n",
       "1                 3.70               yes             26             1.0   \n",
       "2                 3.29                no              0             0.0   \n",
       "3                 1.78                no              0             2.0   \n",
       "4                 2.73                no              0             3.0   \n",
       "...                ...               ...            ...             ...   \n",
       "4995              2.67               yes             40             2.0   \n",
       "4996              3.97                no              0             3.0   \n",
       "4997              3.67                no              0             1.0   \n",
       "4998              2.30                no              0             0.0   \n",
       "4999              2.51               yes             34             0.0   \n",
       "\n",
       "        churn  \n",
       "0      False.  \n",
       "1      False.  \n",
       "2      False.  \n",
       "3      False.  \n",
       "4      False.  \n",
       "...       ...  \n",
       "4995   False.  \n",
       "4996    True.  \n",
       "4997   False.  \n",
       "4998   False.  \n",
       "4999   False.  \n",
       "\n",
       "[5000 rows x 18 columns]"
      ]
     },
     "execution_count": 3,
     "metadata": {},
     "output_type": "execute_result"
    }
   ],
   "source": [
    "data"
   ]
  },
  {
   "cell_type": "markdown",
   "metadata": {
    "id": "0m5gqW_PocNB"
   },
   "source": [
    "# Data cleaning process"
   ]
  },
  {
   "cell_type": "markdown",
   "metadata": {},
   "source": [
    "string values encoding"
   ]
  },
  {
   "cell_type": "code",
   "execution_count": 4,
   "metadata": {},
   "outputs": [],
   "source": [
    "data['churn'].fillna(data['churn'].mode().iloc[0],inplace=True)"
   ]
  },
  {
   "cell_type": "code",
   "execution_count": 5,
   "metadata": {
    "colab": {
     "base_uri": "https://localhost:8080/"
    },
    "id": "Z0gWUNQY_Kdr",
    "outputId": "fc460a04-362c-4cda-b0c6-0e4726e0d28d"
   },
   "outputs": [
    {
     "name": "stdout",
     "output_type": "stream",
     "text": [
      "(5000, 18)\n"
     ]
    }
   ],
   "source": [
    "label_encoder = LabelEncoder()\n",
    "print(data.shape)\n",
    "data['active_msg_vocaux'] = label_encoder.fit_transform(data['active_msg_vocaux'])\n",
    "data['churn'] = label_encoder.fit_transform(data['churn'])"
   ]
  },
  {
   "cell_type": "markdown",
   "metadata": {},
   "source": [
    "drop the id column"
   ]
  },
  {
   "cell_type": "code",
   "execution_count": 6,
   "metadata": {
    "id": "MNkke2Jg-1ge"
   },
   "outputs": [],
   "source": [
    "data=data.iloc[:,1:]"
   ]
  },
  {
   "cell_type": "code",
   "execution_count": 7,
   "metadata": {
    "id": "SQVehwWqkh-J"
   },
   "outputs": [],
   "source": [
    "data_clean=data.dropna()"
   ]
  },
  {
   "cell_type": "code",
   "execution_count": 8,
   "metadata": {
    "colab": {
     "base_uri": "https://localhost:8080/",
     "height": 1000
    },
    "id": "keGbP-Gp0bEM",
    "outputId": "280b4177-f49a-4ef4-f2e5-719cf35312e5"
   },
   "outputs": [
    {
     "data": {
      "text/html": [
       "<div>\n",
       "<style scoped>\n",
       "    .dataframe tbody tr th:only-of-type {\n",
       "        vertical-align: middle;\n",
       "    }\n",
       "\n",
       "    .dataframe tbody tr th {\n",
       "        vertical-align: top;\n",
       "    }\n",
       "\n",
       "    .dataframe thead th {\n",
       "        text-align: right;\n",
       "    }\n",
       "</style>\n",
       "<table border=\"1\" class=\"dataframe\">\n",
       "  <thead>\n",
       "    <tr style=\"text-align: right;\">\n",
       "      <th></th>\n",
       "      <th>nb_jours_abonne</th>\n",
       "      <th>duree_appel_jour(minutes)</th>\n",
       "      <th>nb_appel_jour</th>\n",
       "      <th>cout_appel_jour</th>\n",
       "      <th>duree_appel_soiree(minutes)</th>\n",
       "      <th>nb_appel_soiree</th>\n",
       "      <th>cout_appel_soiree</th>\n",
       "      <th>duree_appel_nuit(minutes)</th>\n",
       "      <th>nb_appel_nuit</th>\n",
       "      <th>cout_appel_nuit</th>\n",
       "      <th>duree_appel_inter(minutes)</th>\n",
       "      <th>nb_appel_inter</th>\n",
       "      <th>cout_appel_inter</th>\n",
       "      <th>active_msg_vocaux</th>\n",
       "      <th>nb_msg_vocaux</th>\n",
       "      <th>nb_reclamation</th>\n",
       "      <th>churn</th>\n",
       "    </tr>\n",
       "  </thead>\n",
       "  <tbody>\n",
       "    <tr>\n",
       "      <th>0</th>\n",
       "      <td>128.0</td>\n",
       "      <td>265.1</td>\n",
       "      <td>110.0</td>\n",
       "      <td>45.07</td>\n",
       "      <td>197.4</td>\n",
       "      <td>99.0</td>\n",
       "      <td>16.78</td>\n",
       "      <td>244.7</td>\n",
       "      <td>91.0</td>\n",
       "      <td>11.01</td>\n",
       "      <td>10.0</td>\n",
       "      <td>3.0</td>\n",
       "      <td>2.70</td>\n",
       "      <td>1</td>\n",
       "      <td>25</td>\n",
       "      <td>1.0</td>\n",
       "      <td>0</td>\n",
       "    </tr>\n",
       "    <tr>\n",
       "      <th>1</th>\n",
       "      <td>107.0</td>\n",
       "      <td>161.6</td>\n",
       "      <td>123.0</td>\n",
       "      <td>27.47</td>\n",
       "      <td>195.5</td>\n",
       "      <td>103.0</td>\n",
       "      <td>16.62</td>\n",
       "      <td>254.4</td>\n",
       "      <td>103.0</td>\n",
       "      <td>11.45</td>\n",
       "      <td>13.7</td>\n",
       "      <td>3.0</td>\n",
       "      <td>3.70</td>\n",
       "      <td>1</td>\n",
       "      <td>26</td>\n",
       "      <td>1.0</td>\n",
       "      <td>0</td>\n",
       "    </tr>\n",
       "    <tr>\n",
       "      <th>2</th>\n",
       "      <td>137.0</td>\n",
       "      <td>243.4</td>\n",
       "      <td>114.0</td>\n",
       "      <td>41.38</td>\n",
       "      <td>121.2</td>\n",
       "      <td>110.0</td>\n",
       "      <td>10.30</td>\n",
       "      <td>162.6</td>\n",
       "      <td>104.0</td>\n",
       "      <td>7.32</td>\n",
       "      <td>12.2</td>\n",
       "      <td>5.0</td>\n",
       "      <td>3.29</td>\n",
       "      <td>0</td>\n",
       "      <td>0</td>\n",
       "      <td>0.0</td>\n",
       "      <td>0</td>\n",
       "    </tr>\n",
       "    <tr>\n",
       "      <th>3</th>\n",
       "      <td>84.0</td>\n",
       "      <td>299.4</td>\n",
       "      <td>71.0</td>\n",
       "      <td>50.90</td>\n",
       "      <td>61.9</td>\n",
       "      <td>88.0</td>\n",
       "      <td>5.26</td>\n",
       "      <td>196.9</td>\n",
       "      <td>89.0</td>\n",
       "      <td>8.86</td>\n",
       "      <td>6.6</td>\n",
       "      <td>7.0</td>\n",
       "      <td>1.78</td>\n",
       "      <td>0</td>\n",
       "      <td>0</td>\n",
       "      <td>2.0</td>\n",
       "      <td>0</td>\n",
       "    </tr>\n",
       "    <tr>\n",
       "      <th>4</th>\n",
       "      <td>75.0</td>\n",
       "      <td>166.7</td>\n",
       "      <td>113.0</td>\n",
       "      <td>28.34</td>\n",
       "      <td>148.3</td>\n",
       "      <td>122.0</td>\n",
       "      <td>12.61</td>\n",
       "      <td>186.9</td>\n",
       "      <td>121.0</td>\n",
       "      <td>8.41</td>\n",
       "      <td>10.1</td>\n",
       "      <td>3.0</td>\n",
       "      <td>2.73</td>\n",
       "      <td>0</td>\n",
       "      <td>0</td>\n",
       "      <td>3.0</td>\n",
       "      <td>0</td>\n",
       "    </tr>\n",
       "    <tr>\n",
       "      <th>...</th>\n",
       "      <td>...</td>\n",
       "      <td>...</td>\n",
       "      <td>...</td>\n",
       "      <td>...</td>\n",
       "      <td>...</td>\n",
       "      <td>...</td>\n",
       "      <td>...</td>\n",
       "      <td>...</td>\n",
       "      <td>...</td>\n",
       "      <td>...</td>\n",
       "      <td>...</td>\n",
       "      <td>...</td>\n",
       "      <td>...</td>\n",
       "      <td>...</td>\n",
       "      <td>...</td>\n",
       "      <td>...</td>\n",
       "      <td>...</td>\n",
       "    </tr>\n",
       "    <tr>\n",
       "      <th>4995</th>\n",
       "      <td>50.0</td>\n",
       "      <td>235.7</td>\n",
       "      <td>127.0</td>\n",
       "      <td>40.07</td>\n",
       "      <td>223.0</td>\n",
       "      <td>126.0</td>\n",
       "      <td>18.96</td>\n",
       "      <td>297.5</td>\n",
       "      <td>116.0</td>\n",
       "      <td>13.39</td>\n",
       "      <td>9.9</td>\n",
       "      <td>5.0</td>\n",
       "      <td>2.67</td>\n",
       "      <td>1</td>\n",
       "      <td>40</td>\n",
       "      <td>2.0</td>\n",
       "      <td>0</td>\n",
       "    </tr>\n",
       "    <tr>\n",
       "      <th>4996</th>\n",
       "      <td>152.0</td>\n",
       "      <td>184.2</td>\n",
       "      <td>90.0</td>\n",
       "      <td>31.31</td>\n",
       "      <td>256.8</td>\n",
       "      <td>73.0</td>\n",
       "      <td>21.83</td>\n",
       "      <td>213.6</td>\n",
       "      <td>113.0</td>\n",
       "      <td>9.61</td>\n",
       "      <td>14.7</td>\n",
       "      <td>2.0</td>\n",
       "      <td>3.97</td>\n",
       "      <td>0</td>\n",
       "      <td>0</td>\n",
       "      <td>3.0</td>\n",
       "      <td>1</td>\n",
       "    </tr>\n",
       "    <tr>\n",
       "      <th>4997</th>\n",
       "      <td>61.0</td>\n",
       "      <td>140.6</td>\n",
       "      <td>89.0</td>\n",
       "      <td>23.90</td>\n",
       "      <td>172.8</td>\n",
       "      <td>128.0</td>\n",
       "      <td>14.69</td>\n",
       "      <td>212.4</td>\n",
       "      <td>97.0</td>\n",
       "      <td>9.56</td>\n",
       "      <td>13.6</td>\n",
       "      <td>4.0</td>\n",
       "      <td>3.67</td>\n",
       "      <td>0</td>\n",
       "      <td>0</td>\n",
       "      <td>1.0</td>\n",
       "      <td>0</td>\n",
       "    </tr>\n",
       "    <tr>\n",
       "      <th>4998</th>\n",
       "      <td>109.0</td>\n",
       "      <td>188.8</td>\n",
       "      <td>67.0</td>\n",
       "      <td>32.10</td>\n",
       "      <td>171.7</td>\n",
       "      <td>92.0</td>\n",
       "      <td>14.59</td>\n",
       "      <td>224.4</td>\n",
       "      <td>89.0</td>\n",
       "      <td>10.10</td>\n",
       "      <td>8.5</td>\n",
       "      <td>6.0</td>\n",
       "      <td>2.30</td>\n",
       "      <td>0</td>\n",
       "      <td>0</td>\n",
       "      <td>0.0</td>\n",
       "      <td>0</td>\n",
       "    </tr>\n",
       "    <tr>\n",
       "      <th>4999</th>\n",
       "      <td>86.0</td>\n",
       "      <td>129.4</td>\n",
       "      <td>102.0</td>\n",
       "      <td>22.00</td>\n",
       "      <td>267.1</td>\n",
       "      <td>104.0</td>\n",
       "      <td>22.70</td>\n",
       "      <td>154.8</td>\n",
       "      <td>100.0</td>\n",
       "      <td>6.97</td>\n",
       "      <td>9.3</td>\n",
       "      <td>16.0</td>\n",
       "      <td>2.51</td>\n",
       "      <td>1</td>\n",
       "      <td>34</td>\n",
       "      <td>0.0</td>\n",
       "      <td>0</td>\n",
       "    </tr>\n",
       "  </tbody>\n",
       "</table>\n",
       "<p>5000 rows × 17 columns</p>\n",
       "</div>"
      ],
      "text/plain": [
       "      nb_jours_abonne  duree_appel_jour(minutes)  nb_appel_jour  \\\n",
       "0               128.0                      265.1          110.0   \n",
       "1               107.0                      161.6          123.0   \n",
       "2               137.0                      243.4          114.0   \n",
       "3                84.0                      299.4           71.0   \n",
       "4                75.0                      166.7          113.0   \n",
       "...               ...                        ...            ...   \n",
       "4995             50.0                      235.7          127.0   \n",
       "4996            152.0                      184.2           90.0   \n",
       "4997             61.0                      140.6           89.0   \n",
       "4998            109.0                      188.8           67.0   \n",
       "4999             86.0                      129.4          102.0   \n",
       "\n",
       "      cout_appel_jour  duree_appel_soiree(minutes)  nb_appel_soiree  \\\n",
       "0               45.07                        197.4             99.0   \n",
       "1               27.47                        195.5            103.0   \n",
       "2               41.38                        121.2            110.0   \n",
       "3               50.90                         61.9             88.0   \n",
       "4               28.34                        148.3            122.0   \n",
       "...               ...                          ...              ...   \n",
       "4995            40.07                        223.0            126.0   \n",
       "4996            31.31                        256.8             73.0   \n",
       "4997            23.90                        172.8            128.0   \n",
       "4998            32.10                        171.7             92.0   \n",
       "4999            22.00                        267.1            104.0   \n",
       "\n",
       "      cout_appel_soiree  duree_appel_nuit(minutes)  nb_appel_nuit  \\\n",
       "0                 16.78                      244.7           91.0   \n",
       "1                 16.62                      254.4          103.0   \n",
       "2                 10.30                      162.6          104.0   \n",
       "3                  5.26                      196.9           89.0   \n",
       "4                 12.61                      186.9          121.0   \n",
       "...                 ...                        ...            ...   \n",
       "4995              18.96                      297.5          116.0   \n",
       "4996              21.83                      213.6          113.0   \n",
       "4997              14.69                      212.4           97.0   \n",
       "4998              14.59                      224.4           89.0   \n",
       "4999              22.70                      154.8          100.0   \n",
       "\n",
       "      cout_appel_nuit  duree_appel_inter(minutes)  nb_appel_inter  \\\n",
       "0               11.01                        10.0             3.0   \n",
       "1               11.45                        13.7             3.0   \n",
       "2                7.32                        12.2             5.0   \n",
       "3                8.86                         6.6             7.0   \n",
       "4                8.41                        10.1             3.0   \n",
       "...               ...                         ...             ...   \n",
       "4995            13.39                         9.9             5.0   \n",
       "4996             9.61                        14.7             2.0   \n",
       "4997             9.56                        13.6             4.0   \n",
       "4998            10.10                         8.5             6.0   \n",
       "4999             6.97                         9.3            16.0   \n",
       "\n",
       "      cout_appel_inter  active_msg_vocaux  nb_msg_vocaux  nb_reclamation  \\\n",
       "0                 2.70                  1             25             1.0   \n",
       "1                 3.70                  1             26             1.0   \n",
       "2                 3.29                  0              0             0.0   \n",
       "3                 1.78                  0              0             2.0   \n",
       "4                 2.73                  0              0             3.0   \n",
       "...                ...                ...            ...             ...   \n",
       "4995              2.67                  1             40             2.0   \n",
       "4996              3.97                  0              0             3.0   \n",
       "4997              3.67                  0              0             1.0   \n",
       "4998              2.30                  0              0             0.0   \n",
       "4999              2.51                  1             34             0.0   \n",
       "\n",
       "      churn  \n",
       "0         0  \n",
       "1         0  \n",
       "2         0  \n",
       "3         0  \n",
       "4         0  \n",
       "...     ...  \n",
       "4995      0  \n",
       "4996      1  \n",
       "4997      0  \n",
       "4998      0  \n",
       "4999      0  \n",
       "\n",
       "[5000 rows x 17 columns]"
      ]
     },
     "execution_count": 8,
     "metadata": {},
     "output_type": "execute_result"
    }
   ],
   "source": [
    "data"
   ]
  },
  {
   "cell_type": "code",
   "execution_count": 9,
   "metadata": {
    "colab": {
     "base_uri": "https://localhost:8080/",
     "height": 459
    },
    "id": "DHRnX87z_2PP",
    "outputId": "57ca5bf2-ad52-497e-c972-b930eb5b6854"
   },
   "outputs": [
    {
     "data": {
      "text/html": [
       "<div>\n",
       "<style scoped>\n",
       "    .dataframe tbody tr th:only-of-type {\n",
       "        vertical-align: middle;\n",
       "    }\n",
       "\n",
       "    .dataframe tbody tr th {\n",
       "        vertical-align: top;\n",
       "    }\n",
       "\n",
       "    .dataframe thead th {\n",
       "        text-align: right;\n",
       "    }\n",
       "</style>\n",
       "<table border=\"1\" class=\"dataframe\">\n",
       "  <thead>\n",
       "    <tr style=\"text-align: right;\">\n",
       "      <th></th>\n",
       "      <th>nb_jours_abonne</th>\n",
       "      <th>duree_appel_jour(minutes)</th>\n",
       "      <th>nb_appel_jour</th>\n",
       "      <th>cout_appel_jour</th>\n",
       "      <th>duree_appel_soiree(minutes)</th>\n",
       "      <th>nb_appel_soiree</th>\n",
       "      <th>cout_appel_soiree</th>\n",
       "      <th>duree_appel_nuit(minutes)</th>\n",
       "      <th>nb_appel_nuit</th>\n",
       "      <th>cout_appel_nuit</th>\n",
       "      <th>duree_appel_inter(minutes)</th>\n",
       "      <th>nb_appel_inter</th>\n",
       "      <th>cout_appel_inter</th>\n",
       "      <th>active_msg_vocaux</th>\n",
       "      <th>nb_msg_vocaux</th>\n",
       "      <th>nb_reclamation</th>\n",
       "      <th>churn</th>\n",
       "    </tr>\n",
       "  </thead>\n",
       "  <tbody>\n",
       "    <tr>\n",
       "      <th>923</th>\n",
       "      <td>1.0</td>\n",
       "      <td>144.8</td>\n",
       "      <td>107.0</td>\n",
       "      <td>24.62</td>\n",
       "      <td>112.5</td>\n",
       "      <td>66.0</td>\n",
       "      <td>9.56</td>\n",
       "      <td>218.7</td>\n",
       "      <td>79.0</td>\n",
       "      <td>9.84</td>\n",
       "      <td>13.8</td>\n",
       "      <td>3.0</td>\n",
       "      <td>3.73</td>\n",
       "      <td>0</td>\n",
       "      <td>0</td>\n",
       "      <td>1.0</td>\n",
       "      <td>0</td>\n",
       "    </tr>\n",
       "    <tr>\n",
       "      <th>1409</th>\n",
       "      <td>1.0</td>\n",
       "      <td>183.1</td>\n",
       "      <td>95.0</td>\n",
       "      <td>31.13</td>\n",
       "      <td>232.6</td>\n",
       "      <td>110.0</td>\n",
       "      <td>19.77</td>\n",
       "      <td>248.3</td>\n",
       "      <td>110.0</td>\n",
       "      <td>11.17</td>\n",
       "      <td>8.4</td>\n",
       "      <td>2.0</td>\n",
       "      <td>2.27</td>\n",
       "      <td>1</td>\n",
       "      <td>30</td>\n",
       "      <td>0.0</td>\n",
       "      <td>0</td>\n",
       "    </tr>\n",
       "    <tr>\n",
       "      <th>1490</th>\n",
       "      <td>1.0</td>\n",
       "      <td>196.1</td>\n",
       "      <td>107.0</td>\n",
       "      <td>33.34</td>\n",
       "      <td>296.5</td>\n",
       "      <td>82.0</td>\n",
       "      <td>25.20</td>\n",
       "      <td>211.5</td>\n",
       "      <td>91.0</td>\n",
       "      <td>9.52</td>\n",
       "      <td>7.0</td>\n",
       "      <td>2.0</td>\n",
       "      <td>1.89</td>\n",
       "      <td>0</td>\n",
       "      <td>0</td>\n",
       "      <td>1.0</td>\n",
       "      <td>0</td>\n",
       "    </tr>\n",
       "    <tr>\n",
       "      <th>1838</th>\n",
       "      <td>1.0</td>\n",
       "      <td>208.0</td>\n",
       "      <td>115.0</td>\n",
       "      <td>35.36</td>\n",
       "      <td>185.0</td>\n",
       "      <td>113.0</td>\n",
       "      <td>15.73</td>\n",
       "      <td>177.7</td>\n",
       "      <td>144.0</td>\n",
       "      <td>8.00</td>\n",
       "      <td>8.1</td>\n",
       "      <td>9.0</td>\n",
       "      <td>2.19</td>\n",
       "      <td>1</td>\n",
       "      <td>26</td>\n",
       "      <td>1.0</td>\n",
       "      <td>0</td>\n",
       "    </tr>\n",
       "    <tr>\n",
       "      <th>2423</th>\n",
       "      <td>1.0</td>\n",
       "      <td>123.8</td>\n",
       "      <td>113.0</td>\n",
       "      <td>21.05</td>\n",
       "      <td>236.2</td>\n",
       "      <td>77.0</td>\n",
       "      <td>20.08</td>\n",
       "      <td>73.2</td>\n",
       "      <td>81.0</td>\n",
       "      <td>3.29</td>\n",
       "      <td>3.7</td>\n",
       "      <td>2.0</td>\n",
       "      <td>1.00</td>\n",
       "      <td>0</td>\n",
       "      <td>0</td>\n",
       "      <td>0.0</td>\n",
       "      <td>0</td>\n",
       "    </tr>\n",
       "    <tr>\n",
       "      <th>2475</th>\n",
       "      <td>1.0</td>\n",
       "      <td>175.2</td>\n",
       "      <td>74.0</td>\n",
       "      <td>29.78</td>\n",
       "      <td>151.7</td>\n",
       "      <td>79.0</td>\n",
       "      <td>12.89</td>\n",
       "      <td>230.5</td>\n",
       "      <td>109.0</td>\n",
       "      <td>10.37</td>\n",
       "      <td>5.3</td>\n",
       "      <td>3.0</td>\n",
       "      <td>1.43</td>\n",
       "      <td>0</td>\n",
       "      <td>0</td>\n",
       "      <td>1.0</td>\n",
       "      <td>0</td>\n",
       "    </tr>\n",
       "    <tr>\n",
       "      <th>2879</th>\n",
       "      <td>1.0</td>\n",
       "      <td>146.6</td>\n",
       "      <td>68.0</td>\n",
       "      <td>24.92</td>\n",
       "      <td>172.8</td>\n",
       "      <td>67.0</td>\n",
       "      <td>14.69</td>\n",
       "      <td>173.8</td>\n",
       "      <td>113.0</td>\n",
       "      <td>7.82</td>\n",
       "      <td>10.0</td>\n",
       "      <td>2.0</td>\n",
       "      <td>2.70</td>\n",
       "      <td>1</td>\n",
       "      <td>26</td>\n",
       "      <td>1.0</td>\n",
       "      <td>0</td>\n",
       "    </tr>\n",
       "    <tr>\n",
       "      <th>2960</th>\n",
       "      <td>1.0</td>\n",
       "      <td>182.1</td>\n",
       "      <td>106.0</td>\n",
       "      <td>30.96</td>\n",
       "      <td>134.9</td>\n",
       "      <td>106.0</td>\n",
       "      <td>11.47</td>\n",
       "      <td>152.3</td>\n",
       "      <td>75.0</td>\n",
       "      <td>6.85</td>\n",
       "      <td>10.0</td>\n",
       "      <td>3.0</td>\n",
       "      <td>2.70</td>\n",
       "      <td>0</td>\n",
       "      <td>0</td>\n",
       "      <td>5.0</td>\n",
       "      <td>1</td>\n",
       "    </tr>\n",
       "    <tr>\n",
       "      <th>3848</th>\n",
       "      <td>1.0</td>\n",
       "      <td>69.7</td>\n",
       "      <td>84.0</td>\n",
       "      <td>11.85</td>\n",
       "      <td>250.4</td>\n",
       "      <td>79.0</td>\n",
       "      <td>21.28</td>\n",
       "      <td>230.2</td>\n",
       "      <td>122.0</td>\n",
       "      <td>10.36</td>\n",
       "      <td>8.3</td>\n",
       "      <td>3.0</td>\n",
       "      <td>2.24</td>\n",
       "      <td>1</td>\n",
       "      <td>26</td>\n",
       "      <td>2.0</td>\n",
       "      <td>0</td>\n",
       "    </tr>\n",
       "    <tr>\n",
       "      <th>4174</th>\n",
       "      <td>1.0</td>\n",
       "      <td>241.5</td>\n",
       "      <td>114.0</td>\n",
       "      <td>41.06</td>\n",
       "      <td>195.2</td>\n",
       "      <td>94.0</td>\n",
       "      <td>16.59</td>\n",
       "      <td>201.6</td>\n",
       "      <td>93.0</td>\n",
       "      <td>9.07</td>\n",
       "      <td>14.1</td>\n",
       "      <td>3.0</td>\n",
       "      <td>3.81</td>\n",
       "      <td>0</td>\n",
       "      <td>0</td>\n",
       "      <td>3.0</td>\n",
       "      <td>0</td>\n",
       "    </tr>\n",
       "    <tr>\n",
       "      <th>4915</th>\n",
       "      <td>1.0</td>\n",
       "      <td>195.0</td>\n",
       "      <td>81.0</td>\n",
       "      <td>33.15</td>\n",
       "      <td>266.2</td>\n",
       "      <td>123.0</td>\n",
       "      <td>22.63</td>\n",
       "      <td>213.9</td>\n",
       "      <td>132.0</td>\n",
       "      <td>9.63</td>\n",
       "      <td>11.1</td>\n",
       "      <td>6.0</td>\n",
       "      <td>3.00</td>\n",
       "      <td>0</td>\n",
       "      <td>0</td>\n",
       "      <td>0.0</td>\n",
       "      <td>0</td>\n",
       "    </tr>\n",
       "  </tbody>\n",
       "</table>\n",
       "</div>"
      ],
      "text/plain": [
       "      nb_jours_abonne  duree_appel_jour(minutes)  nb_appel_jour  \\\n",
       "923               1.0                      144.8          107.0   \n",
       "1409              1.0                      183.1           95.0   \n",
       "1490              1.0                      196.1          107.0   \n",
       "1838              1.0                      208.0          115.0   \n",
       "2423              1.0                      123.8          113.0   \n",
       "2475              1.0                      175.2           74.0   \n",
       "2879              1.0                      146.6           68.0   \n",
       "2960              1.0                      182.1          106.0   \n",
       "3848              1.0                       69.7           84.0   \n",
       "4174              1.0                      241.5          114.0   \n",
       "4915              1.0                      195.0           81.0   \n",
       "\n",
       "      cout_appel_jour  duree_appel_soiree(minutes)  nb_appel_soiree  \\\n",
       "923             24.62                        112.5             66.0   \n",
       "1409            31.13                        232.6            110.0   \n",
       "1490            33.34                        296.5             82.0   \n",
       "1838            35.36                        185.0            113.0   \n",
       "2423            21.05                        236.2             77.0   \n",
       "2475            29.78                        151.7             79.0   \n",
       "2879            24.92                        172.8             67.0   \n",
       "2960            30.96                        134.9            106.0   \n",
       "3848            11.85                        250.4             79.0   \n",
       "4174            41.06                        195.2             94.0   \n",
       "4915            33.15                        266.2            123.0   \n",
       "\n",
       "      cout_appel_soiree  duree_appel_nuit(minutes)  nb_appel_nuit  \\\n",
       "923                9.56                      218.7           79.0   \n",
       "1409              19.77                      248.3          110.0   \n",
       "1490              25.20                      211.5           91.0   \n",
       "1838              15.73                      177.7          144.0   \n",
       "2423              20.08                       73.2           81.0   \n",
       "2475              12.89                      230.5          109.0   \n",
       "2879              14.69                      173.8          113.0   \n",
       "2960              11.47                      152.3           75.0   \n",
       "3848              21.28                      230.2          122.0   \n",
       "4174              16.59                      201.6           93.0   \n",
       "4915              22.63                      213.9          132.0   \n",
       "\n",
       "      cout_appel_nuit  duree_appel_inter(minutes)  nb_appel_inter  \\\n",
       "923              9.84                        13.8             3.0   \n",
       "1409            11.17                         8.4             2.0   \n",
       "1490             9.52                         7.0             2.0   \n",
       "1838             8.00                         8.1             9.0   \n",
       "2423             3.29                         3.7             2.0   \n",
       "2475            10.37                         5.3             3.0   \n",
       "2879             7.82                        10.0             2.0   \n",
       "2960             6.85                        10.0             3.0   \n",
       "3848            10.36                         8.3             3.0   \n",
       "4174             9.07                        14.1             3.0   \n",
       "4915             9.63                        11.1             6.0   \n",
       "\n",
       "      cout_appel_inter  active_msg_vocaux  nb_msg_vocaux  nb_reclamation  \\\n",
       "923               3.73                  0              0             1.0   \n",
       "1409              2.27                  1             30             0.0   \n",
       "1490              1.89                  0              0             1.0   \n",
       "1838              2.19                  1             26             1.0   \n",
       "2423              1.00                  0              0             0.0   \n",
       "2475              1.43                  0              0             1.0   \n",
       "2879              2.70                  1             26             1.0   \n",
       "2960              2.70                  0              0             5.0   \n",
       "3848              2.24                  1             26             2.0   \n",
       "4174              3.81                  0              0             3.0   \n",
       "4915              3.00                  0              0             0.0   \n",
       "\n",
       "      churn  \n",
       "923       0  \n",
       "1409      0  \n",
       "1490      0  \n",
       "1838      0  \n",
       "2423      0  \n",
       "2475      0  \n",
       "2879      0  \n",
       "2960      1  \n",
       "3848      0  \n",
       "4174      0  \n",
       "4915      0  "
      ]
     },
     "execution_count": 9,
     "metadata": {},
     "output_type": "execute_result"
    }
   ],
   "source": [
    "data[data['nb_jours_abonne']==1]\n"
   ]
  },
  {
   "cell_type": "code",
   "execution_count": 10,
   "metadata": {
    "colab": {
     "base_uri": "https://localhost:8080/"
    },
    "id": "u_k2ydoCx4rL",
    "outputId": "182fb0ea-fdea-4836-c8c3-616ec6f1cc28"
   },
   "outputs": [
    {
     "data": {
      "text/plain": [
       "nb_jours_abonne                  11.00\n",
       "duree_appel_jour(minutes)      1865.90\n",
       "nb_appel_jour                  1064.00\n",
       "cout_appel_jour                 317.22\n",
       "duree_appel_soiree(minutes)    2234.00\n",
       "nb_appel_soiree                 996.00\n",
       "cout_appel_soiree               189.89\n",
       "duree_appel_nuit(minutes)      2131.70\n",
       "nb_appel_nuit                  1149.00\n",
       "cout_appel_nuit                  95.92\n",
       "duree_appel_inter(minutes)       99.80\n",
       "nb_appel_inter                   38.00\n",
       "cout_appel_inter                 26.96\n",
       "active_msg_vocaux                 4.00\n",
       "nb_msg_vocaux                   108.00\n",
       "nb_reclamation                   15.00\n",
       "churn                             1.00\n",
       "dtype: float64"
      ]
     },
     "execution_count": 10,
     "metadata": {},
     "output_type": "execute_result"
    }
   ],
   "source": [
    "data[data['nb_jours_abonne']==1].sum()"
   ]
  },
  {
   "cell_type": "code",
   "execution_count": 11,
   "metadata": {
    "colab": {
     "base_uri": "https://localhost:8080/",
     "height": 427
    },
    "id": "BQnoTKqZezR7",
    "outputId": "e3854f3b-a9e4-4808-a279-6093d9fc0834"
   },
   "outputs": [
    {
     "data": {
      "text/html": [
       "<div>\n",
       "<style scoped>\n",
       "    .dataframe tbody tr th:only-of-type {\n",
       "        vertical-align: middle;\n",
       "    }\n",
       "\n",
       "    .dataframe tbody tr th {\n",
       "        vertical-align: top;\n",
       "    }\n",
       "\n",
       "    .dataframe thead th {\n",
       "        text-align: right;\n",
       "    }\n",
       "</style>\n",
       "<table border=\"1\" class=\"dataframe\">\n",
       "  <thead>\n",
       "    <tr style=\"text-align: right;\">\n",
       "      <th></th>\n",
       "      <th>nb_jours_abonne</th>\n",
       "      <th>duree_appel_jour(minutes)</th>\n",
       "      <th>nb_appel_jour</th>\n",
       "      <th>cout_appel_jour</th>\n",
       "      <th>duree_appel_soiree(minutes)</th>\n",
       "      <th>nb_appel_soiree</th>\n",
       "      <th>cout_appel_soiree</th>\n",
       "      <th>duree_appel_nuit(minutes)</th>\n",
       "      <th>nb_appel_nuit</th>\n",
       "      <th>cout_appel_nuit</th>\n",
       "      <th>duree_appel_inter(minutes)</th>\n",
       "      <th>nb_appel_inter</th>\n",
       "      <th>cout_appel_inter</th>\n",
       "      <th>active_msg_vocaux</th>\n",
       "      <th>nb_msg_vocaux</th>\n",
       "      <th>nb_reclamation</th>\n",
       "      <th>churn</th>\n",
       "    </tr>\n",
       "  </thead>\n",
       "  <tbody>\n",
       "    <tr>\n",
       "      <th>79</th>\n",
       "      <td>70.0</td>\n",
       "      <td>170.2</td>\n",
       "      <td>98.0</td>\n",
       "      <td>28.93</td>\n",
       "      <td>155.2</td>\n",
       "      <td>102.0</td>\n",
       "      <td>13.19</td>\n",
       "      <td>228.6</td>\n",
       "      <td>76.0</td>\n",
       "      <td>10.29</td>\n",
       "      <td>15.0</td>\n",
       "      <td>2.0</td>\n",
       "      <td>4.05</td>\n",
       "      <td>0</td>\n",
       "      <td>0</td>\n",
       "      <td>1.0</td>\n",
       "      <td>0</td>\n",
       "    </tr>\n",
       "    <tr>\n",
       "      <th>3480</th>\n",
       "      <td>60.0</td>\n",
       "      <td>197.0</td>\n",
       "      <td>130.0</td>\n",
       "      <td>33.49</td>\n",
       "      <td>219.2</td>\n",
       "      <td>105.0</td>\n",
       "      <td>18.63</td>\n",
       "      <td>102.8</td>\n",
       "      <td>113.0</td>\n",
       "      <td>4.63</td>\n",
       "      <td>12.6</td>\n",
       "      <td>4.0</td>\n",
       "      <td>3.40</td>\n",
       "      <td>0</td>\n",
       "      <td>0</td>\n",
       "      <td>1.0</td>\n",
       "      <td>0</td>\n",
       "    </tr>\n",
       "    <tr>\n",
       "      <th>3566</th>\n",
       "      <td>106.0</td>\n",
       "      <td>223.3</td>\n",
       "      <td>97.0</td>\n",
       "      <td>37.96</td>\n",
       "      <td>212.5</td>\n",
       "      <td>131.0</td>\n",
       "      <td>18.06</td>\n",
       "      <td>154.6</td>\n",
       "      <td>149.0</td>\n",
       "      <td>6.96</td>\n",
       "      <td>11.6</td>\n",
       "      <td>2.0</td>\n",
       "      <td>3.13</td>\n",
       "      <td>1</td>\n",
       "      <td>27</td>\n",
       "      <td>1.0</td>\n",
       "      <td>0</td>\n",
       "    </tr>\n",
       "    <tr>\n",
       "      <th>1441</th>\n",
       "      <td>172.0</td>\n",
       "      <td>274.9</td>\n",
       "      <td>102.0</td>\n",
       "      <td>46.73</td>\n",
       "      <td>186.6</td>\n",
       "      <td>118.0</td>\n",
       "      <td>15.86</td>\n",
       "      <td>245.0</td>\n",
       "      <td>123.0</td>\n",
       "      <td>11.03</td>\n",
       "      <td>8.8</td>\n",
       "      <td>2.0</td>\n",
       "      <td>2.38</td>\n",
       "      <td>1</td>\n",
       "      <td>47</td>\n",
       "      <td>1.0</td>\n",
       "      <td>0</td>\n",
       "    </tr>\n",
       "    <tr>\n",
       "      <th>3855</th>\n",
       "      <td>18.0</td>\n",
       "      <td>180.2</td>\n",
       "      <td>115.0</td>\n",
       "      <td>30.63</td>\n",
       "      <td>83.4</td>\n",
       "      <td>114.0</td>\n",
       "      <td>7.09</td>\n",
       "      <td>245.3</td>\n",
       "      <td>111.0</td>\n",
       "      <td>11.04</td>\n",
       "      <td>11.9</td>\n",
       "      <td>6.0</td>\n",
       "      <td>3.21</td>\n",
       "      <td>0</td>\n",
       "      <td>0</td>\n",
       "      <td>1.0</td>\n",
       "      <td>0</td>\n",
       "    </tr>\n",
       "    <tr>\n",
       "      <th>2627</th>\n",
       "      <td>86.0</td>\n",
       "      <td>150.8</td>\n",
       "      <td>85.0</td>\n",
       "      <td>25.64</td>\n",
       "      <td>295.9</td>\n",
       "      <td>88.0</td>\n",
       "      <td>25.15</td>\n",
       "      <td>247.2</td>\n",
       "      <td>104.0</td>\n",
       "      <td>11.12</td>\n",
       "      <td>12.5</td>\n",
       "      <td>1.0</td>\n",
       "      <td>3.38</td>\n",
       "      <td>0</td>\n",
       "      <td>0</td>\n",
       "      <td>1.0</td>\n",
       "      <td>0</td>\n",
       "    </tr>\n",
       "    <tr>\n",
       "      <th>537</th>\n",
       "      <td>190.0</td>\n",
       "      <td>166.5</td>\n",
       "      <td>93.0</td>\n",
       "      <td>28.31</td>\n",
       "      <td>183.0</td>\n",
       "      <td>92.0</td>\n",
       "      <td>15.56</td>\n",
       "      <td>121.0</td>\n",
       "      <td>102.0</td>\n",
       "      <td>5.44</td>\n",
       "      <td>8.5</td>\n",
       "      <td>3.0</td>\n",
       "      <td>2.30</td>\n",
       "      <td>1</td>\n",
       "      <td>22</td>\n",
       "      <td>0.0</td>\n",
       "      <td>0</td>\n",
       "    </tr>\n",
       "    <tr>\n",
       "      <th>4128</th>\n",
       "      <td>130.0</td>\n",
       "      <td>140.9</td>\n",
       "      <td>68.0</td>\n",
       "      <td>23.95</td>\n",
       "      <td>217.5</td>\n",
       "      <td>109.0</td>\n",
       "      <td>18.49</td>\n",
       "      <td>123.6</td>\n",
       "      <td>96.0</td>\n",
       "      <td>5.56</td>\n",
       "      <td>13.6</td>\n",
       "      <td>4.0</td>\n",
       "      <td>3.67</td>\n",
       "      <td>0</td>\n",
       "      <td>0</td>\n",
       "      <td>3.0</td>\n",
       "      <td>0</td>\n",
       "    </tr>\n",
       "    <tr>\n",
       "      <th>3711</th>\n",
       "      <td>127.0</td>\n",
       "      <td>155.8</td>\n",
       "      <td>91.0</td>\n",
       "      <td>26.49</td>\n",
       "      <td>103.7</td>\n",
       "      <td>85.0</td>\n",
       "      <td>8.81</td>\n",
       "      <td>117.2</td>\n",
       "      <td>125.0</td>\n",
       "      <td>5.27</td>\n",
       "      <td>8.6</td>\n",
       "      <td>3.0</td>\n",
       "      <td>2.32</td>\n",
       "      <td>0</td>\n",
       "      <td>0</td>\n",
       "      <td>2.0</td>\n",
       "      <td>0</td>\n",
       "    </tr>\n",
       "    <tr>\n",
       "      <th>760</th>\n",
       "      <td>128.0</td>\n",
       "      <td>187.3</td>\n",
       "      <td>84.0</td>\n",
       "      <td>31.84</td>\n",
       "      <td>270.8</td>\n",
       "      <td>95.0</td>\n",
       "      <td>23.02</td>\n",
       "      <td>206.4</td>\n",
       "      <td>68.0</td>\n",
       "      <td>9.29</td>\n",
       "      <td>10.1</td>\n",
       "      <td>5.0</td>\n",
       "      <td>2.73</td>\n",
       "      <td>0</td>\n",
       "      <td>0</td>\n",
       "      <td>1.0</td>\n",
       "      <td>0</td>\n",
       "    </tr>\n",
       "  </tbody>\n",
       "</table>\n",
       "</div>"
      ],
      "text/plain": [
       "      nb_jours_abonne  duree_appel_jour(minutes)  nb_appel_jour  \\\n",
       "79               70.0                      170.2           98.0   \n",
       "3480             60.0                      197.0          130.0   \n",
       "3566            106.0                      223.3           97.0   \n",
       "1441            172.0                      274.9          102.0   \n",
       "3855             18.0                      180.2          115.0   \n",
       "2627             86.0                      150.8           85.0   \n",
       "537             190.0                      166.5           93.0   \n",
       "4128            130.0                      140.9           68.0   \n",
       "3711            127.0                      155.8           91.0   \n",
       "760             128.0                      187.3           84.0   \n",
       "\n",
       "      cout_appel_jour  duree_appel_soiree(minutes)  nb_appel_soiree  \\\n",
       "79              28.93                        155.2            102.0   \n",
       "3480            33.49                        219.2            105.0   \n",
       "3566            37.96                        212.5            131.0   \n",
       "1441            46.73                        186.6            118.0   \n",
       "3855            30.63                         83.4            114.0   \n",
       "2627            25.64                        295.9             88.0   \n",
       "537             28.31                        183.0             92.0   \n",
       "4128            23.95                        217.5            109.0   \n",
       "3711            26.49                        103.7             85.0   \n",
       "760             31.84                        270.8             95.0   \n",
       "\n",
       "      cout_appel_soiree  duree_appel_nuit(minutes)  nb_appel_nuit  \\\n",
       "79                13.19                      228.6           76.0   \n",
       "3480              18.63                      102.8          113.0   \n",
       "3566              18.06                      154.6          149.0   \n",
       "1441              15.86                      245.0          123.0   \n",
       "3855               7.09                      245.3          111.0   \n",
       "2627              25.15                      247.2          104.0   \n",
       "537               15.56                      121.0          102.0   \n",
       "4128              18.49                      123.6           96.0   \n",
       "3711               8.81                      117.2          125.0   \n",
       "760               23.02                      206.4           68.0   \n",
       "\n",
       "      cout_appel_nuit  duree_appel_inter(minutes)  nb_appel_inter  \\\n",
       "79              10.29                        15.0             2.0   \n",
       "3480             4.63                        12.6             4.0   \n",
       "3566             6.96                        11.6             2.0   \n",
       "1441            11.03                         8.8             2.0   \n",
       "3855            11.04                        11.9             6.0   \n",
       "2627            11.12                        12.5             1.0   \n",
       "537              5.44                         8.5             3.0   \n",
       "4128             5.56                        13.6             4.0   \n",
       "3711             5.27                         8.6             3.0   \n",
       "760              9.29                        10.1             5.0   \n",
       "\n",
       "      cout_appel_inter  active_msg_vocaux  nb_msg_vocaux  nb_reclamation  \\\n",
       "79                4.05                  0              0             1.0   \n",
       "3480              3.40                  0              0             1.0   \n",
       "3566              3.13                  1             27             1.0   \n",
       "1441              2.38                  1             47             1.0   \n",
       "3855              3.21                  0              0             1.0   \n",
       "2627              3.38                  0              0             1.0   \n",
       "537               2.30                  1             22             0.0   \n",
       "4128              3.67                  0              0             3.0   \n",
       "3711              2.32                  0              0             2.0   \n",
       "760               2.73                  0              0             1.0   \n",
       "\n",
       "      churn  \n",
       "79        0  \n",
       "3480      0  \n",
       "3566      0  \n",
       "1441      0  \n",
       "3855      0  \n",
       "2627      0  \n",
       "537       0  \n",
       "4128      0  \n",
       "3711      0  \n",
       "760       0  "
      ]
     },
     "execution_count": 11,
     "metadata": {},
     "output_type": "execute_result"
    }
   ],
   "source": [
    "data.sample(10)"
   ]
  },
  {
   "cell_type": "markdown",
   "metadata": {},
   "source": [
    "check the null values"
   ]
  },
  {
   "cell_type": "code",
   "execution_count": 12,
   "metadata": {
    "colab": {
     "base_uri": "https://localhost:8080/"
    },
    "id": "w0atjzWfjczd",
    "outputId": "34185cc4-0c1c-49e6-82f9-d446666e1274"
   },
   "outputs": [
    {
     "data": {
      "text/plain": [
       "nb_jours_abonne                10\n",
       "duree_appel_jour(minutes)       0\n",
       "nb_appel_jour                   7\n",
       "cout_appel_jour                21\n",
       "duree_appel_soiree(minutes)     0\n",
       "nb_appel_soiree                 6\n",
       "cout_appel_soiree               0\n",
       "duree_appel_nuit(minutes)       0\n",
       "nb_appel_nuit                  11\n",
       "cout_appel_nuit                 0\n",
       "duree_appel_inter(minutes)      0\n",
       "nb_appel_inter                 12\n",
       "cout_appel_inter                0\n",
       "active_msg_vocaux               0\n",
       "nb_msg_vocaux                   0\n",
       "nb_reclamation                 12\n",
       "churn                           0\n",
       "dtype: int64"
      ]
     },
     "execution_count": 12,
     "metadata": {},
     "output_type": "execute_result"
    }
   ],
   "source": [
    "data.isnull().sum()"
   ]
  },
  {
   "cell_type": "markdown",
   "metadata": {
    "id": "GnDRHEvKb8dl"
   },
   "source": [
    "in this cell we are going to  change null values of ‘nb_app_jour’ par E(nb/duree)*nb"
   ]
  },
  {
   "cell_type": "code",
   "execution_count": 13,
   "metadata": {
    "colab": {
     "base_uri": "https://localhost:8080/"
    },
    "id": "S1IBKcBucHsX",
    "outputId": "7bc5a2e4-6d79-4d29-90af-4c90aeecd8d9"
   },
   "outputs": [
    {
     "name": "stdout",
     "output_type": "stream",
     "text": [
      "(7,)\n"
     ]
    },
    {
     "name": "stderr",
     "output_type": "stream",
     "text": [
      "C:\\Users\\Wajih\\AppData\\Local\\Temp\\ipykernel_11152\\2812907389.py:6: SettingWithCopyWarning: \n",
      "A value is trying to be set on a copy of a slice from a DataFrame\n",
      "\n",
      "See the caveats in the documentation: https://pandas.pydata.org/pandas-docs/stable/user_guide/indexing.html#returning-a-view-versus-a-copy\n",
      "  data['nb_appel_jour'].__setitem__(I,data['duree_appel_jour(minutes)'].__getitem__(I)/Avg_duree_per_app)\n"
     ]
    }
   ],
   "source": [
    "x=data_clean['duree_appel_jour(minutes)']\n",
    "y=data_clean['nb_appel_jour']\n",
    "Avg_duree_per_app=(x/y).mean()\n",
    "I=data['nb_appel_jour'][data['nb_appel_jour'].isnull()].index\n",
    "print(I.shape)\n",
    "data['nb_appel_jour'].__setitem__(I,data['duree_appel_jour(minutes)'].__getitem__(I)/Avg_duree_per_app)"
   ]
  },
  {
   "cell_type": "code",
   "execution_count": 14,
   "metadata": {
    "colab": {
     "base_uri": "https://localhost:8080/"
    },
    "id": "1C7GEbnDTvJS",
    "outputId": "fad941a2-ac31-42c8-ea3e-73ebd446faae"
   },
   "outputs": [
    {
     "data": {
      "text/plain": [
       "102.000000    113\n",
       "105.000000    110\n",
       "95.000000     108\n",
       "94.000000     104\n",
       "97.000000     104\n",
       "             ... \n",
       "112.719065      1\n",
       "109.641049      1\n",
       "143.923778      1\n",
       "36.000000       1\n",
       "46.000000       1\n",
       "Name: nb_appel_jour, Length: 130, dtype: int64"
      ]
     },
     "execution_count": 14,
     "metadata": {},
     "output_type": "execute_result"
    }
   ],
   "source": [
    "data['nb_appel_jour'].value_counts()"
   ]
  },
  {
   "cell_type": "markdown",
   "metadata": {
    "id": "o2SzhXCVb8a5"
   },
   "source": [
    "now we do the same for nuit soiree"
   ]
  },
  {
   "cell_type": "code",
   "execution_count": 15,
   "metadata": {
    "colab": {
     "base_uri": "https://localhost:8080/"
    },
    "id": "mYEyQoDmhxz4",
    "outputId": "68c69578-b2e1-4047-9004-c098b49ce568"
   },
   "outputs": [
    {
     "name": "stderr",
     "output_type": "stream",
     "text": [
      "C:\\Users\\Wajih\\AppData\\Local\\Temp\\ipykernel_11152\\819878149.py:6: SettingWithCopyWarning: \n",
      "A value is trying to be set on a copy of a slice from a DataFrame\n",
      "\n",
      "See the caveats in the documentation: https://pandas.pydata.org/pandas-docs/stable/user_guide/indexing.html#returning-a-view-versus-a-copy\n",
      "  data['nb_appel_nuit'].__setitem__(I,data['duree_appel_nuit(minutes)'].__getitem__(I)/Avg_duree_per_app_nuit)\n"
     ]
    }
   ],
   "source": [
    "x=data_clean['duree_appel_nuit(minutes)']\n",
    "y=data_clean['nb_appel_nuit']\n",
    "Avg_duree_per_app_nuit=(x/y).mean()\n",
    "\n",
    "I=data['nb_appel_nuit'][data['nb_appel_nuit'].isnull()].index\n",
    "data['nb_appel_nuit'].__setitem__(I,data['duree_appel_nuit(minutes)'].__getitem__(I)/Avg_duree_per_app_nuit)"
   ]
  },
  {
   "cell_type": "code",
   "execution_count": 16,
   "metadata": {
    "colab": {
     "base_uri": "https://localhost:8080/"
    },
    "id": "Y7iuJ0EkT62S",
    "outputId": "53f3170d-3ac3-4b66-e085-f2d53a9a9f69"
   },
   "outputs": [
    {
     "data": {
      "text/plain": [
       "105.000000    110\n",
       "102.000000    109\n",
       "100.000000    108\n",
       "104.000000    106\n",
       "99.000000     105\n",
       "             ... \n",
       "33.000000       1\n",
       "81.199139       1\n",
       "166.000000      1\n",
       "72.033804       1\n",
       "0.000000        1\n",
       "Name: nb_appel_nuit, Length: 142, dtype: int64"
      ]
     },
     "execution_count": 16,
     "metadata": {},
     "output_type": "execute_result"
    }
   ],
   "source": [
    "data['nb_appel_nuit'].value_counts()"
   ]
  },
  {
   "cell_type": "code",
   "execution_count": 17,
   "metadata": {
    "colab": {
     "base_uri": "https://localhost:8080/"
    },
    "id": "mPIopE8QnIc-",
    "outputId": "f4221df8-95b8-4f28-d4db-b960da720918"
   },
   "outputs": [
    {
     "name": "stdout",
     "output_type": "stream",
     "text": [
      "Int64Index([260, 754, 1667, 2223, 2802, 3443], dtype='int64')\n"
     ]
    },
    {
     "name": "stderr",
     "output_type": "stream",
     "text": [
      "C:\\Users\\Wajih\\AppData\\Local\\Temp\\ipykernel_11152\\3925469622.py:8: SettingWithCopyWarning: \n",
      "A value is trying to be set on a copy of a slice from a DataFrame\n",
      "\n",
      "See the caveats in the documentation: https://pandas.pydata.org/pandas-docs/stable/user_guide/indexing.html#returning-a-view-versus-a-copy\n",
      "  data['nb_appel_soiree'].iloc[i]=data['duree_appel_soiree(minutes)'].iloc[i]/Avg_duree_per_app_soiree\n"
     ]
    }
   ],
   "source": [
    "x=data_clean['duree_appel_soiree(minutes)']\n",
    "y=data_clean['nb_appel_soiree']\n",
    "Avg_duree_per_app_soiree=(x/y).mean()\n",
    "\n",
    "I=data['nb_appel_soiree'][data['nb_appel_soiree'].isnull()].index\n",
    "print(I)\n",
    "for i in I:\n",
    "  data['nb_appel_soiree'].iloc[i]=data['duree_appel_soiree(minutes)'].iloc[i]/Avg_duree_per_app_soiree"
   ]
  },
  {
   "cell_type": "code",
   "execution_count": 18,
   "metadata": {
    "colab": {
     "base_uri": "https://localhost:8080/"
    },
    "id": "GOThip_aT_8Z",
    "outputId": "045f07f7-f26b-496a-df27-01e23aa59cdb"
   },
   "outputs": [
    {
     "data": {
      "text/plain": [
       "91.000000     110\n",
       "97.000000     110\n",
       "105.000000    109\n",
       "94.000000     106\n",
       "103.000000    106\n",
       "             ... \n",
       "12.000000       1\n",
       "156.000000      1\n",
       "82.057979       1\n",
       "36.000000       1\n",
       "38.000000       1\n",
       "Name: nb_appel_soiree, Length: 132, dtype: int64"
      ]
     },
     "execution_count": 18,
     "metadata": {},
     "output_type": "execute_result"
    }
   ],
   "source": [
    "data['nb_appel_soiree'].value_counts()"
   ]
  },
  {
   "cell_type": "code",
   "execution_count": 19,
   "metadata": {
    "colab": {
     "base_uri": "https://localhost:8080/"
    },
    "id": "2ThVlCGTx7ey",
    "outputId": "083558fe-c407-4657-d29f-a260a9cf107b"
   },
   "outputs": [
    {
     "name": "stdout",
     "output_type": "stream",
     "text": [
      "Int64Index([359, 374, 460, 586, 1311, 1591, 2368, 3367, 4312, 4382], dtype='int64')\n",
      "None\n"
     ]
    },
    {
     "name": "stderr",
     "output_type": "stream",
     "text": [
      "C:\\Users\\Wajih\\AppData\\Local\\Temp\\ipykernel_11152\\3963454278.py:5: SettingWithCopyWarning: \n",
      "A value is trying to be set on a copy of a slice from a DataFrame\n",
      "\n",
      "See the caveats in the documentation: https://pandas.pydata.org/pandas-docs/stable/user_guide/indexing.html#returning-a-view-versus-a-copy\n",
      "  data['nb_jours_abonne'].iloc[i]=avg\n"
     ]
    }
   ],
   "source": [
    "avg=data['nb_jours_abonne'].mean()\n",
    "I=data[data['nb_jours_abonne'].isnull()].index\n",
    "print(print(I))\n",
    "for i in I:\n",
    "  data['nb_jours_abonne'].iloc[i]=avg"
   ]
  },
  {
   "cell_type": "code",
   "execution_count": 20,
   "metadata": {
    "colab": {
     "base_uri": "https://localhost:8080/"
    },
    "id": "NAdGJ0z2ygg9",
    "outputId": "6a2e79ad-44cb-4b74-ef97-0acad775e972"
   },
   "outputs": [
    {
     "name": "stderr",
     "output_type": "stream",
     "text": [
      "C:\\Users\\Wajih\\AppData\\Local\\Temp\\ipykernel_11152\\3158618482.py:4: SettingWithCopyWarning: \n",
      "A value is trying to be set on a copy of a slice from a DataFrame\n",
      "\n",
      "See the caveats in the documentation: https://pandas.pydata.org/pandas-docs/stable/user_guide/indexing.html#returning-a-view-versus-a-copy\n",
      "  data['nb_reclamation'].iloc[i]=avg\n"
     ]
    }
   ],
   "source": [
    "avg=data['nb_reclamation'].mean()\n",
    "I=data[data['nb_reclamation'].isnull()].index\n",
    "for i in I:\n",
    "  data['nb_reclamation'].iloc[i]=avg"
   ]
  },
  {
   "cell_type": "code",
   "execution_count": 21,
   "metadata": {
    "colab": {
     "base_uri": "https://localhost:8080/"
    },
    "id": "GnmmG2JQrX9w",
    "outputId": "32c7fd93-e127-4ce2-8bc8-0c4ccf4561ec"
   },
   "outputs": [
    {
     "data": {
      "text/plain": [
       "0"
      ]
     },
     "execution_count": 21,
     "metadata": {},
     "output_type": "execute_result"
    }
   ],
   "source": [
    "data['duree_appel_inter(minutes)'].isnull().sum()"
   ]
  },
  {
   "cell_type": "code",
   "execution_count": 22,
   "metadata": {
    "colab": {
     "base_uri": "https://localhost:8080/"
    },
    "id": "PUPbLBbzv584",
    "outputId": "0e1a6a49-ef00-4a8b-e8d2-2657cb7b6d54"
   },
   "outputs": [
    {
     "data": {
      "text/plain": [
       "nb_jours_abonne                0\n",
       "duree_appel_jour(minutes)      0\n",
       "nb_appel_jour                  0\n",
       "cout_appel_jour                0\n",
       "duree_appel_soiree(minutes)    0\n",
       "nb_appel_soiree                0\n",
       "cout_appel_soiree              0\n",
       "duree_appel_nuit(minutes)      0\n",
       "nb_appel_nuit                  0\n",
       "cout_appel_nuit                0\n",
       "duree_appel_inter(minutes)     0\n",
       "nb_appel_inter                 0\n",
       "cout_appel_inter               0\n",
       "active_msg_vocaux              0\n",
       "nb_msg_vocaux                  0\n",
       "nb_reclamation                 0\n",
       "churn                          0\n",
       "dtype: int64"
      ]
     },
     "execution_count": 22,
     "metadata": {},
     "output_type": "execute_result"
    }
   ],
   "source": [
    "data_clean.isnull().sum()"
   ]
  },
  {
   "cell_type": "code",
   "execution_count": 23,
   "metadata": {
    "colab": {
     "base_uri": "https://localhost:8080/"
    },
    "id": "F65fU0UmoS7C",
    "outputId": "82d34f7a-cc6a-41c9-8af1-2ea4d01c6845"
   },
   "outputs": [
    {
     "name": "stderr",
     "output_type": "stream",
     "text": [
      "C:\\Users\\Wajih\\AppData\\Local\\Temp\\ipykernel_11152\\1868993062.py:6: SettingWithCopyWarning: \n",
      "A value is trying to be set on a copy of a slice from a DataFrame\n",
      "\n",
      "See the caveats in the documentation: https://pandas.pydata.org/pandas-docs/stable/user_guide/indexing.html#returning-a-view-versus-a-copy\n",
      "  data['nb_appel_inter'].iloc[i]=data['duree_appel_inter(minutes)'].iloc[i]*Avg_duree_per_app_inter\n"
     ]
    }
   ],
   "source": [
    "x=data_clean['duree_appel_inter(minutes)'][data_clean['duree_appel_inter(minutes)']!=0]\n",
    "y=data_clean['nb_appel_inter'][data_clean['nb_appel_inter']!=0]\n",
    "Avg_duree_per_app_inter=(y/x).mean()\n",
    "I=data['nb_appel_inter'][data['nb_appel_inter'].isnull()].index\n",
    "for i in I:\n",
    "  data['nb_appel_inter'].iloc[i]=data['duree_appel_inter(minutes)'].iloc[i]*Avg_duree_per_app_inter"
   ]
  },
  {
   "cell_type": "code",
   "execution_count": 24,
   "metadata": {},
   "outputs": [
    {
     "name": "stdout",
     "output_type": "stream",
     "text": [
      "0.1692307692307692 0.17051282051282052\n"
     ]
    }
   ],
   "source": [
    "d=(data_clean['cout_appel_jour']/data_clean['duree_appel_jour(minutes)'])\n",
    "print(d.min(),d.max())"
   ]
  },
  {
   "cell_type": "code",
   "execution_count": 25,
   "metadata": {
    "colab": {
     "base_uri": "https://localhost:8080/"
    },
    "id": "FFVYUHLUpD3O",
    "outputId": "ca198f4f-78ff-46e0-db87-b8854eb9ecd8"
   },
   "outputs": [
    {
     "name": "stderr",
     "output_type": "stream",
     "text": [
      "C:\\Users\\Wajih\\AppData\\Local\\Temp\\ipykernel_11152\\197206400.py:4: SettingWithCopyWarning: \n",
      "A value is trying to be set on a copy of a slice from a DataFrame\n",
      "\n",
      "See the caveats in the documentation: https://pandas.pydata.org/pandas-docs/stable/user_guide/indexing.html#returning-a-view-versus-a-copy\n",
      "  data['cout_appel_jour'].iloc[i]=cout_per_min_avg*data['duree_appel_jour(minutes)'].iloc[i]\n"
     ]
    }
   ],
   "source": [
    "cout_per_min_avg=(data_clean['cout_appel_jour']/data_clean['duree_appel_jour(minutes)']).mean()\n",
    "I=data['cout_appel_jour'][data['cout_appel_jour'].isnull()].index\n",
    "for i in I:\n",
    "  data['cout_appel_jour'].iloc[i]=cout_per_min_avg*data['duree_appel_jour(minutes)'].iloc[i]"
   ]
  },
  {
   "cell_type": "code",
   "execution_count": 26,
   "metadata": {
    "colab": {
     "base_uri": "https://localhost:8080/"
    },
    "id": "4lKekO6poQxI",
    "outputId": "f50e8506-5084-414f-c96b-3a1ef3e19325"
   },
   "outputs": [
    {
     "data": {
      "text/plain": [
       "nb_jours_abonne                0\n",
       "duree_appel_jour(minutes)      0\n",
       "nb_appel_jour                  0\n",
       "cout_appel_jour                0\n",
       "duree_appel_soiree(minutes)    0\n",
       "nb_appel_soiree                0\n",
       "cout_appel_soiree              0\n",
       "duree_appel_nuit(minutes)      0\n",
       "nb_appel_nuit                  0\n",
       "cout_appel_nuit                0\n",
       "duree_appel_inter(minutes)     0\n",
       "nb_appel_inter                 0\n",
       "cout_appel_inter               0\n",
       "active_msg_vocaux              0\n",
       "nb_msg_vocaux                  0\n",
       "nb_reclamation                 0\n",
       "churn                          0\n",
       "dtype: int64"
      ]
     },
     "execution_count": 26,
     "metadata": {},
     "output_type": "execute_result"
    }
   ],
   "source": [
    "data.isnull().sum()"
   ]
  },
  {
   "cell_type": "code",
   "execution_count": 27,
   "metadata": {
    "colab": {
     "base_uri": "https://localhost:8080/",
     "height": 239
    },
    "id": "iRxnjPEb0f2u",
    "outputId": "3617983a-98ed-4a8b-ed2d-c294194b5cf8"
   },
   "outputs": [
    {
     "data": {
      "text/html": [
       "<div>\n",
       "<style scoped>\n",
       "    .dataframe tbody tr th:only-of-type {\n",
       "        vertical-align: middle;\n",
       "    }\n",
       "\n",
       "    .dataframe tbody tr th {\n",
       "        vertical-align: top;\n",
       "    }\n",
       "\n",
       "    .dataframe thead th {\n",
       "        text-align: right;\n",
       "    }\n",
       "</style>\n",
       "<table border=\"1\" class=\"dataframe\">\n",
       "  <thead>\n",
       "    <tr style=\"text-align: right;\">\n",
       "      <th></th>\n",
       "      <th>nb_jours_abonne</th>\n",
       "      <th>duree_appel_jour(minutes)</th>\n",
       "      <th>nb_appel_jour</th>\n",
       "      <th>cout_appel_jour</th>\n",
       "      <th>duree_appel_soiree(minutes)</th>\n",
       "      <th>nb_appel_soiree</th>\n",
       "      <th>cout_appel_soiree</th>\n",
       "      <th>duree_appel_nuit(minutes)</th>\n",
       "      <th>nb_appel_nuit</th>\n",
       "      <th>cout_appel_nuit</th>\n",
       "      <th>duree_appel_inter(minutes)</th>\n",
       "      <th>nb_appel_inter</th>\n",
       "      <th>cout_appel_inter</th>\n",
       "      <th>active_msg_vocaux</th>\n",
       "      <th>nb_msg_vocaux</th>\n",
       "      <th>nb_reclamation</th>\n",
       "      <th>churn</th>\n",
       "    </tr>\n",
       "  </thead>\n",
       "  <tbody>\n",
       "  </tbody>\n",
       "</table>\n",
       "</div>"
      ],
      "text/plain": [
       "Empty DataFrame\n",
       "Columns: [nb_jours_abonne, duree_appel_jour(minutes), nb_appel_jour, cout_appel_jour, duree_appel_soiree(minutes), nb_appel_soiree, cout_appel_soiree, duree_appel_nuit(minutes), nb_appel_nuit, cout_appel_nuit, duree_appel_inter(minutes), nb_appel_inter, cout_appel_inter, active_msg_vocaux, nb_msg_vocaux, nb_reclamation, churn]\n",
       "Index: []"
      ]
     },
     "execution_count": 27,
     "metadata": {},
     "output_type": "execute_result"
    }
   ],
   "source": [
    "data[data['churn']==2]"
   ]
  },
  {
   "cell_type": "code",
   "execution_count": 28,
   "metadata": {
    "colab": {
     "base_uri": "https://localhost:8080/"
    },
    "id": "w6ypvb-avwaq",
    "outputId": "c25b5556-9723-4a34-c102-86749ca92f5b"
   },
   "outputs": [
    {
     "data": {
      "text/plain": [
       "1.459186931001046"
      ]
     },
     "execution_count": 28,
     "metadata": {},
     "output_type": "execute_result"
    }
   ],
   "source": [
    "data_corr=data.corr()\n",
    "data['nb_reclamation'][data['churn']==False].mean()"
   ]
  },
  {
   "cell_type": "code",
   "execution_count": 29,
   "metadata": {
    "colab": {
     "base_uri": "https://localhost:8080/",
     "height": 424
    },
    "id": "UAt0D6YoVjjj",
    "outputId": "b2c12709-2c68-4791-cb55-2ada6efeb9e1"
   },
   "outputs": [
    {
     "data": {
      "text/plain": [
       "<Axes: ylabel='churn'>"
      ]
     },
     "execution_count": 29,
     "metadata": {},
     "output_type": "execute_result"
    },
    {
     "data": {
      "image/png": "[encoded data removed]",
      "text/plain": [
       "<Figure size 640x480 with 1 Axes>"
      ]
     },
     "metadata": {},
     "output_type": "display_data"
    }
   ],
   "source": [
    "p=data['churn'].value_counts().plot.pie(autopct='%1.1f%%')\n",
    "p"
   ]
  },
  {
   "cell_type": "code",
   "execution_count": 30,
   "metadata": {
    "colab": {
     "base_uri": "https://localhost:8080/"
    },
    "id": "-uY8TBQRrSfD",
    "outputId": "f3bd355a-4675-4b4f-d40a-6cf1aa39c797"
   },
   "outputs": [
    {
     "data": {
      "text/plain": [
       "100.27915831663327"
      ]
     },
     "execution_count": 30,
     "metadata": {},
     "output_type": "execute_result"
    }
   ],
   "source": [
    "data['nb_jours_abonne'].mean()"
   ]
  },
  {
   "cell_type": "code",
   "execution_count": 31,
   "metadata": {
    "colab": {
     "base_uri": "https://localhost:8080/"
    },
    "id": "8GN8TNG6nuOW",
    "outputId": "7bdfdcef-f1ed-494f-bc99-acc7d2af1cdf"
   },
   "outputs": [
    {
     "data": {
      "text/plain": [
       "Index(['nb_jours_abonne', 'duree_appel_jour(minutes)', 'nb_appel_jour',\n",
       "       'cout_appel_jour', 'duree_appel_soiree(minutes)', 'nb_appel_soiree',\n",
       "       'cout_appel_soiree', 'duree_appel_nuit(minutes)', 'nb_appel_nuit',\n",
       "       'cout_appel_nuit', 'duree_appel_inter(minutes)', 'nb_appel_inter',\n",
       "       'cout_appel_inter', 'active_msg_vocaux', 'nb_msg_vocaux',\n",
       "       'nb_reclamation', 'churn'],\n",
       "      dtype='object')"
      ]
     },
     "execution_count": 31,
     "metadata": {},
     "output_type": "execute_result"
    }
   ],
   "source": [
    "data.columns"
   ]
  },
  {
   "cell_type": "code",
   "execution_count": 32,
   "metadata": {
    "colab": {
     "base_uri": "https://localhost:8080/"
    },
    "id": "ApHzra-_xFjU",
    "outputId": "37630b1b-c4a8-4fd0-d4f7-157ccd021c9f"
   },
   "outputs": [
    {
     "data": {
      "text/plain": [
       "1    4992\n",
       "0       8\n",
       "Name: active_msg_vocaux, dtype: int64"
      ]
     },
     "execution_count": 32,
     "metadata": {},
     "output_type": "execute_result"
    }
   ],
   "source": [
    "d=data['active_msg_vocaux'][data['active_msg_vocaux']]\n",
    "d.value_counts()"
   ]
  },
  {
   "cell_type": "code",
   "execution_count": 33,
   "metadata": {
    "colab": {
     "base_uri": "https://localhost:8080/"
    },
    "id": "FArF3HkvxwgF",
    "outputId": "351a1718-388d-4510-cc5e-a57b51f57a93"
   },
   "outputs": [
    {
     "data": {
      "text/plain": [
       "nb_jours_abonne                0\n",
       "duree_appel_jour(minutes)      0\n",
       "nb_appel_jour                  0\n",
       "cout_appel_jour                0\n",
       "duree_appel_soiree(minutes)    0\n",
       "nb_appel_soiree                0\n",
       "cout_appel_soiree              0\n",
       "duree_appel_nuit(minutes)      0\n",
       "nb_appel_nuit                  0\n",
       "cout_appel_nuit                0\n",
       "duree_appel_inter(minutes)     0\n",
       "nb_appel_inter                 0\n",
       "cout_appel_inter               0\n",
       "active_msg_vocaux              0\n",
       "nb_msg_vocaux                  0\n",
       "nb_reclamation                 0\n",
       "churn                          0\n",
       "dtype: int64"
      ]
     },
     "execution_count": 33,
     "metadata": {},
     "output_type": "execute_result"
    }
   ],
   "source": [
    "data.isnull().sum()"
   ]
  },
  {
   "cell_type": "markdown",
   "metadata": {},
   "source": [
    "we are going to replace the null values of the col 'active_msg_vocaux' with the last values observed"
   ]
  },
  {
   "cell_type": "code",
   "execution_count": 34,
   "metadata": {},
   "outputs": [],
   "source": [
    "data['active_msg_vocaux'].fillna(method=\"ffill\",inplace=True)"
   ]
  },
  {
   "cell_type": "markdown",
   "metadata": {
    "id": "8WMPkA9HoBvi"
   },
   "source": [
    "#Logistic regression to find missed chun"
   ]
  },
  {
   "cell_type": "code",
   "execution_count": 35,
   "metadata": {
    "colab": {
     "base_uri": "https://localhost:8080/"
    },
    "id": "QUjiym-Wutgo",
    "outputId": "3a0f3533-cb53-4ad3-a761-e1bc2344b571"
   },
   "outputs": [
    {
     "data": {
      "text/plain": [
       "(5000, 17)"
      ]
     },
     "execution_count": 35,
     "metadata": {},
     "output_type": "execute_result"
    }
   ],
   "source": [
    "data.shape"
   ]
  },
  {
   "cell_type": "code",
   "execution_count": 36,
   "metadata": {},
   "outputs": [
    {
     "data": {
      "text/plain": [
       "0    4293\n",
       "1     707\n",
       "Name: churn, dtype: int64"
      ]
     },
     "execution_count": 36,
     "metadata": {},
     "output_type": "execute_result"
    }
   ],
   "source": [
    "data['churn'].value_counts()"
   ]
  },
  {
   "cell_type": "markdown",
   "metadata": {},
   "source": [
    "we are going to replace the null values of the col 'churn' with the most frequent value which is 0"
   ]
  },
  {
   "cell_type": "markdown",
   "metadata": {},
   "source": [
    "# ML models"
   ]
  },
  {
   "cell_type": "code",
   "execution_count": 37,
   "metadata": {
    "id": "B69hAVqnopo5"
   },
   "outputs": [],
   "source": [
    "x=data.iloc[:,:-1]\n",
    "y=data.iloc[:,-1:]"
   ]
  },
  {
   "cell_type": "code",
   "execution_count": 85,
   "metadata": {
    "colab": {
     "base_uri": "https://localhost:8080/",
     "height": 274
    },
    "id": "XcPrUUpiws5C",
    "outputId": "09303106-cc14-48f5-b805-f3527f709877"
   },
   "outputs": [
    {
     "name": "stderr",
     "output_type": "stream",
     "text": [
      "C:\\Users\\Wajih\\anaconda3\\lib\\site-packages\\sklearn\\utils\\validation.py:1143: DataConversionWarning: A column-vector y was passed when a 1d array was expected. Please change the shape of y to (n_samples, ), for example using ravel().\n",
      "  y = column_or_1d(y, warn=True)\n",
      "C:\\Users\\Wajih\\anaconda3\\lib\\site-packages\\sklearn\\linear_model\\_logistic.py:458: ConvergenceWarning: lbfgs failed to converge (status=1):\n",
      "STOP: TOTAL NO. of ITERATIONS REACHED LIMIT.\n",
      "\n",
      "Increase the number of iterations (max_iter) or scale the data as shown in:\n",
      "    https://scikit-learn.org/stable/modules/preprocessing.html\n",
      "Please also refer to the documentation for alternative solver options:\n",
      "    https://scikit-learn.org/stable/modules/linear_model.html#logistic-regression\n",
      "  n_iter_i = _check_optimize_result(\n"
     ]
    },
    {
     "data": {
      "text/html": [
       "<style>#sk-container-id-2 {color: black;background-color: white;}#sk-container-id-2 pre{padding: 0;}#sk-container-id-2 div.sk-toggleable {background-color: white;}#sk-container-id-2 label.sk-toggleable__label {cursor: pointer;display: block;width: 100%;margin-bottom: 0;padding: 0.3em;box-sizing: border-box;text-align: center;}#sk-container-id-2 label.sk-toggleable__label-arrow:before {content: \"▸\";float: left;margin-right: 0.25em;color: #696969;}#sk-container-id-2 label.sk-toggleable__label-arrow:hover:before {color: black;}#sk-container-id-2 div.sk-estimator:hover label.sk-toggleable__label-arrow:before {color: black;}#sk-container-id-2 div.sk-toggleable__content {max-height: 0;max-width: 0;overflow: hidden;text-align: left;background-color: #f0f8ff;}#sk-container-id-2 div.sk-toggleable__content pre {margin: 0.2em;color: black;border-radius: 0.25em;background-color: #f0f8ff;}#sk-container-id-2 input.sk-toggleable__control:checked~div.sk-toggleable__content {max-height: 200px;max-width: 100%;overflow: auto;}#sk-container-id-2 input.sk-toggleable__control:checked~label.sk-toggleable__label-arrow:before {content: \"▾\";}#sk-container-id-2 div.sk-estimator input.sk-toggleable__control:checked~label.sk-toggleable__label {background-color: #d4ebff;}#sk-container-id-2 div.sk-label input.sk-toggleable__control:checked~label.sk-toggleable__label {background-color: #d4ebff;}#sk-container-id-2 input.sk-hidden--visually {border: 0;clip: rect(1px 1px 1px 1px);clip: rect(1px, 1px, 1px, 1px);height: 1px;margin: -1px;overflow: hidden;padding: 0;position: absolute;width: 1px;}#sk-container-id-2 div.sk-estimator {font-family: monospace;background-color: #f0f8ff;border: 1px dotted black;border-radius: 0.25em;box-sizing: border-box;margin-bottom: 0.5em;}#sk-container-id-2 div.sk-estimator:hover {background-color: #d4ebff;}#sk-container-id-2 div.sk-parallel-item::after {content: \"\";width: 100%;border-bottom: 1px solid gray;flex-grow: 1;}#sk-container-id-2 div.sk-label:hover label.sk-toggleable__label {background-color: #d4ebff;}#sk-container-id-2 div.sk-serial::before {content: \"\";position: absolute;border-left: 1px solid gray;box-sizing: border-box;top: 0;bottom: 0;left: 50%;z-index: 0;}#sk-container-id-2 div.sk-serial {display: flex;flex-direction: column;align-items: center;background-color: white;padding-right: 0.2em;padding-left: 0.2em;position: relative;}#sk-container-id-2 div.sk-item {position: relative;z-index: 1;}#sk-container-id-2 div.sk-parallel {display: flex;align-items: stretch;justify-content: center;background-color: white;position: relative;}#sk-container-id-2 div.sk-item::before, #sk-container-id-2 div.sk-parallel-item::before {content: \"\";position: absolute;border-left: 1px solid gray;box-sizing: border-box;top: 0;bottom: 0;left: 50%;z-index: -1;}#sk-container-id-2 div.sk-parallel-item {display: flex;flex-direction: column;z-index: 1;position: relative;background-color: white;}#sk-container-id-2 div.sk-parallel-item:first-child::after {align-self: flex-end;width: 50%;}#sk-container-id-2 div.sk-parallel-item:last-child::after {align-self: flex-start;width: 50%;}#sk-container-id-2 div.sk-parallel-item:only-child::after {width: 0;}#sk-container-id-2 div.sk-dashed-wrapped {border: 1px dashed gray;margin: 0 0.4em 0.5em 0.4em;box-sizing: border-box;padding-bottom: 0.4em;background-color: white;}#sk-container-id-2 div.sk-label label {font-family: monospace;font-weight: bold;display: inline-block;line-height: 1.2em;}#sk-container-id-2 div.sk-label-container {text-align: center;}#sk-container-id-2 div.sk-container {/* jupyter's `normalize.less` sets `[hidden] { display: none; }` but bootstrap.min.css set `[hidden] { display: none !important; }` so we also need the `!important` here to be able to override the default hidden behavior on the sphinx rendered scikit-learn.org. See: https://github.com/scikit-learn/scikit-learn/issues/21755 */display: inline-block !important;position: relative;}#sk-container-id-2 div.sk-text-repr-fallback {display: none;}</style><div id=\"sk-container-id-2\" class=\"sk-top-container\"><div class=\"sk-text-repr-fallback\"><pre>LogisticRegression()</pre><b>In a Jupyter environment, please rerun this cell to show the HTML representation or trust the notebook. <br />On GitHub, the HTML representation is unable to render, please try loading this page with nbviewer.org.</b></div><div class=\"sk-container\" hidden><div class=\"sk-item\"><div class=\"sk-estimator sk-toggleable\"><input class=\"sk-toggleable__control sk-hidden--visually\" id=\"sk-estimator-id-2\" type=\"checkbox\" checked><label for=\"sk-estimator-id-2\" class=\"sk-toggleable__label sk-toggleable__label-arrow\">LogisticRegression</label><div class=\"sk-toggleable__content\"><pre>LogisticRegression()</pre></div></div></div></div></div>"
      ],
      "text/plain": [
       "LogisticRegression()"
      ]
     },
     "execution_count": 85,
     "metadata": {},
     "output_type": "execute_result"
    }
   ],
   "source": [
    "x_train,x_test,y_train,y_test=train_test_split(x,y,test_size=0.2,stratify=y,random_state=1)\n",
    "lr=LogisticRegression()\n",
    "lr.fit(x_train,y_train)"
   ]
  },
  {
   "cell_type": "code",
   "execution_count": 86,
   "metadata": {
    "colab": {
     "base_uri": "https://localhost:8080/"
    },
    "id": "qyYN4lOYyjLe",
    "outputId": "e8b87c36-b6c6-49ed-c591-ffc7b6ecc6ff"
   },
   "outputs": [
    {
     "name": "stdout",
     "output_type": "stream",
     "text": [
      "the accuracy is: 0.85725\n"
     ]
    }
   ],
   "source": [
    "x_train_pred=lr.predict(x_train)\n",
    "print('the accuracy is:',accuracy_score(x_train_pred,y_train))"
   ]
  },
  {
   "cell_type": "code",
   "execution_count": 87,
   "metadata": {
    "colab": {
     "base_uri": "https://localhost:8080/"
    },
    "id": "-FYevukZznVl",
    "outputId": "c23ea0c8-ce6c-4772-a01e-579926ac4c35"
   },
   "outputs": [
    {
     "name": "stdout",
     "output_type": "stream",
     "text": [
      "churn\n",
      "0        3434\n",
      "1         566\n",
      "dtype: int64\n"
     ]
    },
    {
     "data": {
      "text/plain": [
       "(4000, 1)"
      ]
     },
     "execution_count": 87,
     "metadata": {},
     "output_type": "execute_result"
    }
   ],
   "source": [
    "x_test_pred=lr.predict(x_test)\n",
    "print(y_train.value_counts())\n",
    "#print('the accuracy is:',accuracy_score(x_test_pred,y_test))\n",
    "confusion_matrix(x_train_pred,y_train)\n",
    "(y_train).shape"
   ]
  },
  {
   "cell_type": "code",
   "execution_count": 88,
   "metadata": {},
   "outputs": [
    {
     "data": {
      "text/plain": [
       "<Axes: >"
      ]
     },
     "execution_count": 88,
     "metadata": {},
     "output_type": "execute_result"
    },
    {
     "data": {
      "image/png": "[encoded data removed]",
      "text/plain": [
       "<Figure size 640x480 with 1 Axes>"
      ]
     },
     "metadata": {},
     "output_type": "display_data"
    }
   ],
   "source": [
    "cm=confusion_matrix(y_test,x_test_pred)\n",
    "sns.heatmap(cm, annot=True, fmt=\"d\", cmap=\"Blues\", cbar=False,\n",
    "            xticklabels=['non churn pred', 'churn pred'], yticklabels=['non churn', 'churn'])"
   ]
  },
  {
   "cell_type": "code",
   "execution_count": 89,
   "metadata": {},
   "outputs": [
    {
     "name": "stdout",
     "output_type": "stream",
     "text": [
      "Accuracy: 0.86\n",
      "F1-score: 0.09090909090909093\n",
      "Recall: 0.04964539007092199\n",
      "Precision: 0.5384615384615384\n"
     ]
    }
   ],
   "source": [
    "true_labels=y_test\n",
    "predicted_labels=x_test_pred\n",
    "accuracy = accuracy_score(true_labels, predicted_labels)\n",
    "print(\"Accuracy:\", accuracy)\n",
    "\n",
    "# Calculate F1-score\n",
    "f1 = f1_score(true_labels, predicted_labels)\n",
    "print(\"F1-score:\", f1)\n",
    "\n",
    "# Calculate recall\n",
    "recall = recall_score(true_labels, predicted_labels)\n",
    "print(\"Recall:\", recall)\n",
    "\n",
    "# Calculate precision\n",
    "precision = precision_score(true_labels, predicted_labels)\n",
    "print(\"Precision:\", precision)"
   ]
  },
  {
   "cell_type": "markdown",
   "metadata": {},
   "source": [
    "this model didnt work well because from 636 true churn it predict only 37 correctly so we will try to implement the decision tree classifier and compare"
   ]
  },
  {
   "cell_type": "code",
   "execution_count": 90,
   "metadata": {},
   "outputs": [],
   "source": [
    "dt=DecisionTreeClassifier()\n",
    "dt.fit(x_train,y_train)\n",
    "dt_x_train_pred=dt.predict(x_train)"
   ]
  },
  {
   "cell_type": "markdown",
   "metadata": {},
   "source": [
    "it looks good but now we will test with the test data"
   ]
  },
  {
   "cell_type": "code",
   "execution_count": 94,
   "metadata": {},
   "outputs": [],
   "source": [
    "test_pred=dt.predict(x_test)\n",
    "cm=confusion_matrix(y_test,test_pred)"
   ]
  },
  {
   "cell_type": "code",
   "execution_count": 93,
   "metadata": {},
   "outputs": [
    {
     "name": "stdout",
     "output_type": "stream",
     "text": [
      "Accuracy: 0.865\n",
      "F1-score: 0.5573770491803278\n",
      "Recall: 0.6028368794326241\n",
      "Precision: 0.5182926829268293\n"
     ]
    }
   ],
   "source": [
    "true_labels=y_test\n",
    "predicted_labels=test_pred\n",
    "accuracy = accuracy_score(true_labels, predicted_labels)\n",
    "print(\"Accuracy:\", accuracy)\n",
    "\n",
    "# Calculate F1-score\n",
    "f1 = f1_score(true_labels, predicted_labels)\n",
    "print(\"F1-score:\", f1)\n",
    "\n",
    "# Calculate recall\n",
    "recall = recall_score(true_labels, predicted_labels)\n",
    "print(\"Recall:\", recall)\n",
    "\n",
    "# Calculate precision\n",
    "precision = precision_score(true_labels, predicted_labels)\n",
    "print(\"Precision:\", precision)"
   ]
  },
  {
   "cell_type": "code",
   "execution_count": 92,
   "metadata": {},
   "outputs": [
    {
     "data": {
      "text/plain": [
       "<Axes: >"
      ]
     },
     "execution_count": 92,
     "metadata": {},
     "output_type": "execute_result"
    },
    {
     "data": {
      "image/png": "[encoded data removed]",
      "text/plain": [
       "<Figure size 640x480 with 1 Axes>"
      ]
     },
     "metadata": {},
     "output_type": "display_data"
    }
   ],
   "source": [
    "sns.heatmap(cm, annot=True, fmt=\"d\", cmap=\"Blues\", cbar=False,\n",
    "            xticklabels=['non churn pred', 'churn pred'], yticklabels=['non churn', 'churn'])"
   ]
  },
  {
   "cell_type": "markdown",
   "metadata": {},
   "source": [
    "its much better , but we will see if we got better,we will try random forests"
   ]
  },
  {
   "cell_type": "code",
   "execution_count": 45,
   "metadata": {},
   "outputs": [
    {
     "name": "stderr",
     "output_type": "stream",
     "text": [
      "C:\\Users\\Wajih\\AppData\\Local\\Temp\\ipykernel_11152\\3836258313.py:2: DataConversionWarning: A column-vector y was passed when a 1d array was expected. Please change the shape of y to (n_samples,), for example using ravel().\n",
      "  rfc.fit(x_train,y_train)\n"
     ]
    },
    {
     "name": "stdout",
     "output_type": "stream",
     "text": [
      "accuracy 0.99975\n",
      "confudion matrinx [[3434    1]\n",
      " [   0  565]]\n"
     ]
    }
   ],
   "source": [
    "rfc=RandomForestClassifier()\n",
    "rfc.fit(x_train,y_train)\n",
    "train_pred=rfc.predict(x_train)\n",
    "print('accuracy',accuracy_score(train_pred,y_train))\n",
    "print('confudion matrinx',confusion_matrix(train_pred,y_train))"
   ]
  },
  {
   "cell_type": "code",
   "execution_count": 95,
   "metadata": {},
   "outputs": [],
   "source": [
    "test_pred2=rfc.predict(x_test)\n",
    "ccm=confusion_matrix(y_test,test_pred2)"
   ]
  },
  {
   "cell_type": "code",
   "execution_count": 96,
   "metadata": {},
   "outputs": [
    {
     "data": {
      "text/plain": [
       "<Axes: >"
      ]
     },
     "execution_count": 96,
     "metadata": {},
     "output_type": "execute_result"
    },
    {
     "data": {
      "image/png": "[encoded data removed]",
      "text/plain": [
       "<Figure size 640x480 with 1 Axes>"
      ]
     },
     "metadata": {},
     "output_type": "display_data"
    }
   ],
   "source": [
    "sns.heatmap(ccm, annot=True, fmt=\"d\", cmap=\"Blues\", cbar=False,\n",
    "            xticklabels=['non churn pred', 'churn pred'], yticklabels=['non churn', 'churn'])"
   ]
  },
  {
   "cell_type": "markdown",
   "metadata": {},
   "source": [
    "We can identify if a machine learning model has overfit by first evaluating the model on the training dataset and then evaluating the same model on a holdout test dataset.\n",
    "If the performance of the model on the training dataset is significantly better than the performance on the test dataset, then the model may have overfit the training dataset."
   ]
  },
  {
   "cell_type": "markdown",
   "metadata": {},
   "source": [
    "now we will try to standarize the data and see the difference"
   ]
  },
  {
   "cell_type": "code",
   "execution_count": 97,
   "metadata": {},
   "outputs": [
    {
     "name": "stdout",
     "output_type": "stream",
     "text": [
      "Accuracy: 0.937\n",
      "F1-score: 0.7341772151898734\n",
      "Recall: 0.6170212765957447\n",
      "Precision: 0.90625\n"
     ]
    }
   ],
   "source": [
    "true_labels=y_test\n",
    "predicted_labels=test_pred2\n",
    "accuracy = accuracy_score(true_labels, predicted_labels)\n",
    "print(\"Accuracy:\", accuracy)\n",
    "\n",
    "# Calculate F1-score\n",
    "f1 = f1_score(true_labels, predicted_labels)\n",
    "print(\"F1-score:\", f1)\n",
    "\n",
    "# Calculate recall\n",
    "recall = recall_score(true_labels, predicted_labels)\n",
    "print(\"Recall:\", recall)\n",
    "\n",
    "# Calculate precision\n",
    "precision = precision_score(true_labels, predicted_labels)\n",
    "print(\"Precision:\", precision)"
   ]
  },
  {
   "cell_type": "code",
   "execution_count": 48,
   "metadata": {},
   "outputs": [
    {
     "data": {
      "text/html": [
       "<div>\n",
       "<style scoped>\n",
       "    .dataframe tbody tr th:only-of-type {\n",
       "        vertical-align: middle;\n",
       "    }\n",
       "\n",
       "    .dataframe tbody tr th {\n",
       "        vertical-align: top;\n",
       "    }\n",
       "\n",
       "    .dataframe thead th {\n",
       "        text-align: right;\n",
       "    }\n",
       "</style>\n",
       "<table border=\"1\" class=\"dataframe\">\n",
       "  <thead>\n",
       "    <tr style=\"text-align: right;\">\n",
       "      <th></th>\n",
       "      <th>0</th>\n",
       "      <th>1</th>\n",
       "      <th>2</th>\n",
       "      <th>3</th>\n",
       "      <th>4</th>\n",
       "      <th>5</th>\n",
       "      <th>6</th>\n",
       "      <th>7</th>\n",
       "      <th>8</th>\n",
       "      <th>9</th>\n",
       "      <th>10</th>\n",
       "      <th>11</th>\n",
       "      <th>12</th>\n",
       "      <th>13</th>\n",
       "      <th>14</th>\n",
       "      <th>15</th>\n",
       "      <th>16</th>\n",
       "    </tr>\n",
       "  </thead>\n",
       "  <tbody>\n",
       "    <tr>\n",
       "      <th>0</th>\n",
       "      <td>0.698470</td>\n",
       "      <td>1.573802</td>\n",
       "      <td>0.502493</td>\n",
       "      <td>1.574074</td>\n",
       "      <td>-0.064032</td>\n",
       "      <td>-0.059134</td>\n",
       "      <td>-0.063849</td>\n",
       "      <td>0.876999</td>\n",
       "      <td>-0.443507</td>\n",
       "      <td>0.876286</td>\n",
       "      <td>-0.094809</td>\n",
       "      <td>-0.585107</td>\n",
       "      <td>-0.095509</td>\n",
       "      <td>1.640191</td>\n",
       "      <td>1.273145</td>\n",
       "      <td>-0.437827</td>\n",
       "      <td>-0.405816</td>\n",
       "    </tr>\n",
       "    <tr>\n",
       "      <th>1</th>\n",
       "      <td>0.169342</td>\n",
       "      <td>-0.346802</td>\n",
       "      <td>1.156463</td>\n",
       "      <td>-0.347082</td>\n",
       "      <td>-0.101621</td>\n",
       "      <td>0.142421</td>\n",
       "      <td>-0.101089</td>\n",
       "      <td>1.068992</td>\n",
       "      <td>0.156876</td>\n",
       "      <td>1.069818</td>\n",
       "      <td>1.245227</td>\n",
       "      <td>-0.585107</td>\n",
       "      <td>1.245982</td>\n",
       "      <td>1.640191</td>\n",
       "      <td>1.346973</td>\n",
       "      <td>-0.437827</td>\n",
       "      <td>-0.405816</td>\n",
       "    </tr>\n",
       "    <tr>\n",
       "      <th>2</th>\n",
       "      <td>0.925239</td>\n",
       "      <td>1.171125</td>\n",
       "      <td>0.703715</td>\n",
       "      <td>1.171286</td>\n",
       "      <td>-1.571562</td>\n",
       "      <td>0.495143</td>\n",
       "      <td>-1.572084</td>\n",
       "      <td>-0.748012</td>\n",
       "      <td>0.206908</td>\n",
       "      <td>-0.746737</td>\n",
       "      <td>0.701969</td>\n",
       "      <td>0.228803</td>\n",
       "      <td>0.695971</td>\n",
       "      <td>-0.599895</td>\n",
       "      <td>-0.572549</td>\n",
       "      <td>-1.203563</td>\n",
       "      <td>-0.405816</td>\n",
       "    </tr>\n",
       "    <tr>\n",
       "      <th>3</th>\n",
       "      <td>-0.410179</td>\n",
       "      <td>2.210292</td>\n",
       "      <td>-1.459417</td>\n",
       "      <td>2.210457</td>\n",
       "      <td>-2.744745</td>\n",
       "      <td>-0.613411</td>\n",
       "      <td>-2.745155</td>\n",
       "      <td>-0.069110</td>\n",
       "      <td>-0.543571</td>\n",
       "      <td>-0.069377</td>\n",
       "      <td>-1.326194</td>\n",
       "      <td>1.042712</td>\n",
       "      <td>-1.329681</td>\n",
       "      <td>-0.599895</td>\n",
       "      <td>-0.572549</td>\n",
       "      <td>0.327909</td>\n",
       "      <td>-0.405816</td>\n",
       "    </tr>\n",
       "    <tr>\n",
       "      <th>4</th>\n",
       "      <td>-0.636948</td>\n",
       "      <td>-0.252163</td>\n",
       "      <td>0.653409</td>\n",
       "      <td>-0.252116</td>\n",
       "      <td>-1.035419</td>\n",
       "      <td>1.099808</td>\n",
       "      <td>-1.034426</td>\n",
       "      <td>-0.267041</td>\n",
       "      <td>1.057451</td>\n",
       "      <td>-0.267307</td>\n",
       "      <td>-0.058592</td>\n",
       "      <td>-0.585107</td>\n",
       "      <td>-0.055264</td>\n",
       "      <td>-0.599895</td>\n",
       "      <td>-0.572549</td>\n",
       "      <td>1.093645</td>\n",
       "      <td>-0.405816</td>\n",
       "    </tr>\n",
       "    <tr>\n",
       "      <th>...</th>\n",
       "      <td>...</td>\n",
       "      <td>...</td>\n",
       "      <td>...</td>\n",
       "      <td>...</td>\n",
       "      <td>...</td>\n",
       "      <td>...</td>\n",
       "      <td>...</td>\n",
       "      <td>...</td>\n",
       "      <td>...</td>\n",
       "      <td>...</td>\n",
       "      <td>...</td>\n",
       "      <td>...</td>\n",
       "      <td>...</td>\n",
       "      <td>...</td>\n",
       "      <td>...</td>\n",
       "      <td>...</td>\n",
       "      <td>...</td>\n",
       "    </tr>\n",
       "    <tr>\n",
       "      <th>4995</th>\n",
       "      <td>-1.266863</td>\n",
       "      <td>1.028239</td>\n",
       "      <td>1.357684</td>\n",
       "      <td>1.028291</td>\n",
       "      <td>0.442435</td>\n",
       "      <td>1.301364</td>\n",
       "      <td>0.443551</td>\n",
       "      <td>1.922073</td>\n",
       "      <td>0.807292</td>\n",
       "      <td>1.923114</td>\n",
       "      <td>-0.131027</td>\n",
       "      <td>0.228803</td>\n",
       "      <td>-0.135754</td>\n",
       "      <td>1.640191</td>\n",
       "      <td>2.380562</td>\n",
       "      <td>0.327909</td>\n",
       "      <td>-0.405816</td>\n",
       "    </tr>\n",
       "    <tr>\n",
       "      <th>4996</th>\n",
       "      <td>1.303188</td>\n",
       "      <td>0.072577</td>\n",
       "      <td>-0.503614</td>\n",
       "      <td>0.072079</td>\n",
       "      <td>1.111130</td>\n",
       "      <td>-1.369243</td>\n",
       "      <td>1.111550</td>\n",
       "      <td>0.261434</td>\n",
       "      <td>0.657196</td>\n",
       "      <td>0.260505</td>\n",
       "      <td>1.607399</td>\n",
       "      <td>-0.992061</td>\n",
       "      <td>1.608185</td>\n",
       "      <td>-0.599895</td>\n",
       "      <td>-0.572549</td>\n",
       "      <td>1.093645</td>\n",
       "      <td>2.464170</td>\n",
       "    </tr>\n",
       "    <tr>\n",
       "      <th>4997</th>\n",
       "      <td>-0.989700</td>\n",
       "      <td>-0.736489</td>\n",
       "      <td>-0.553920</td>\n",
       "      <td>-0.736771</td>\n",
       "      <td>-0.550715</td>\n",
       "      <td>1.402141</td>\n",
       "      <td>-0.550301</td>\n",
       "      <td>0.237683</td>\n",
       "      <td>-0.143316</td>\n",
       "      <td>0.238513</td>\n",
       "      <td>1.209010</td>\n",
       "      <td>-0.178152</td>\n",
       "      <td>1.205738</td>\n",
       "      <td>-0.599895</td>\n",
       "      <td>-0.572549</td>\n",
       "      <td>-0.437827</td>\n",
       "      <td>-0.405816</td>\n",
       "    </tr>\n",
       "    <tr>\n",
       "      <th>4998</th>\n",
       "      <td>0.219735</td>\n",
       "      <td>0.157937</td>\n",
       "      <td>-1.660638</td>\n",
       "      <td>0.158313</td>\n",
       "      <td>-0.572477</td>\n",
       "      <td>-0.411856</td>\n",
       "      <td>-0.573577</td>\n",
       "      <td>0.475200</td>\n",
       "      <td>-0.543571</td>\n",
       "      <td>0.476029</td>\n",
       "      <td>-0.638067</td>\n",
       "      <td>0.635757</td>\n",
       "      <td>-0.632105</td>\n",
       "      <td>-0.599895</td>\n",
       "      <td>-0.572549</td>\n",
       "      <td>-1.203563</td>\n",
       "      <td>-0.405816</td>\n",
       "    </tr>\n",
       "    <tr>\n",
       "      <th>4999</th>\n",
       "      <td>-0.359786</td>\n",
       "      <td>-0.944323</td>\n",
       "      <td>0.100050</td>\n",
       "      <td>-0.944169</td>\n",
       "      <td>1.314903</td>\n",
       "      <td>0.192810</td>\n",
       "      <td>1.314044</td>\n",
       "      <td>-0.902398</td>\n",
       "      <td>0.006780</td>\n",
       "      <td>-0.900682</td>\n",
       "      <td>-0.348330</td>\n",
       "      <td>4.705303</td>\n",
       "      <td>-0.350392</td>\n",
       "      <td>1.640191</td>\n",
       "      <td>1.937595</td>\n",
       "      <td>-1.203563</td>\n",
       "      <td>-0.405816</td>\n",
       "    </tr>\n",
       "  </tbody>\n",
       "</table>\n",
       "<p>5000 rows × 17 columns</p>\n",
       "</div>"
      ],
      "text/plain": [
       "            0         1         2         3         4         5         6   \\\n",
       "0     0.698470  1.573802  0.502493  1.574074 -0.064032 -0.059134 -0.063849   \n",
       "1     0.169342 -0.346802  1.156463 -0.347082 -0.101621  0.142421 -0.101089   \n",
       "2     0.925239  1.171125  0.703715  1.171286 -1.571562  0.495143 -1.572084   \n",
       "3    -0.410179  2.210292 -1.459417  2.210457 -2.744745 -0.613411 -2.745155   \n",
       "4    -0.636948 -0.252163  0.653409 -0.252116 -1.035419  1.099808 -1.034426   \n",
       "...        ...       ...       ...       ...       ...       ...       ...   \n",
       "4995 -1.266863  1.028239  1.357684  1.028291  0.442435  1.301364  0.443551   \n",
       "4996  1.303188  0.072577 -0.503614  0.072079  1.111130 -1.369243  1.111550   \n",
       "4997 -0.989700 -0.736489 -0.553920 -0.736771 -0.550715  1.402141 -0.550301   \n",
       "4998  0.219735  0.157937 -1.660638  0.158313 -0.572477 -0.411856 -0.573577   \n",
       "4999 -0.359786 -0.944323  0.100050 -0.944169  1.314903  0.192810  1.314044   \n",
       "\n",
       "            7         8         9         10        11        12        13  \\\n",
       "0     0.876999 -0.443507  0.876286 -0.094809 -0.585107 -0.095509  1.640191   \n",
       "1     1.068992  0.156876  1.069818  1.245227 -0.585107  1.245982  1.640191   \n",
       "2    -0.748012  0.206908 -0.746737  0.701969  0.228803  0.695971 -0.599895   \n",
       "3    -0.069110 -0.543571 -0.069377 -1.326194  1.042712 -1.329681 -0.599895   \n",
       "4    -0.267041  1.057451 -0.267307 -0.058592 -0.585107 -0.055264 -0.599895   \n",
       "...        ...       ...       ...       ...       ...       ...       ...   \n",
       "4995  1.922073  0.807292  1.923114 -0.131027  0.228803 -0.135754  1.640191   \n",
       "4996  0.261434  0.657196  0.260505  1.607399 -0.992061  1.608185 -0.599895   \n",
       "4997  0.237683 -0.143316  0.238513  1.209010 -0.178152  1.205738 -0.599895   \n",
       "4998  0.475200 -0.543571  0.476029 -0.638067  0.635757 -0.632105 -0.599895   \n",
       "4999 -0.902398  0.006780 -0.900682 -0.348330  4.705303 -0.350392  1.640191   \n",
       "\n",
       "            14        15        16  \n",
       "0     1.273145 -0.437827 -0.405816  \n",
       "1     1.346973 -0.437827 -0.405816  \n",
       "2    -0.572549 -1.203563 -0.405816  \n",
       "3    -0.572549  0.327909 -0.405816  \n",
       "4    -0.572549  1.093645 -0.405816  \n",
       "...        ...       ...       ...  \n",
       "4995  2.380562  0.327909 -0.405816  \n",
       "4996 -0.572549  1.093645  2.464170  \n",
       "4997 -0.572549 -0.437827 -0.405816  \n",
       "4998 -0.572549 -1.203563 -0.405816  \n",
       "4999  1.937595 -1.203563 -0.405816  \n",
       "\n",
       "[5000 rows x 17 columns]"
      ]
     },
     "execution_count": 48,
     "metadata": {},
     "output_type": "execute_result"
    }
   ],
   "source": [
    "\n",
    "std=StandardScaler()\n",
    "std.fit(data)\n",
    "std_data = std.transform(data)\n",
    "std_data=pd.DataFrame(std_data)\n",
    "std_data"
   ]
  },
  {
   "cell_type": "code",
   "execution_count": 49,
   "metadata": {},
   "outputs": [
    {
     "name": "stdout",
     "output_type": "stream",
     "text": [
      "accuracy 1.0\n",
      "confudion matrinx [[3864    0]\n",
      " [   0  636]]\n",
      "accuracy 0.88\n",
      "confudion matrinx [[392  23]\n",
      " [ 37  48]]\n"
     ]
    }
   ],
   "source": [
    "x_train,x_test,y_train,y_test=train_test_split(x,y,test_size=0.1,stratify=y,random_state=1)\n",
    "dt=DecisionTreeClassifier()\n",
    "dt.fit(x_train,y_train)\n",
    "dt_x_train_pred=dt.predict(x_train)\n",
    "print('accuracy',accuracy_score(dt_x_train_pred,y_train))\n",
    "print('confudion matrinx',confusion_matrix(dt_x_train_pred,y_train))\n",
    "test_pred=dt.predict(x_test)\n",
    "print('accuracy',accuracy_score(test_pred,y_test))\n",
    "print('confudion matrinx',confusion_matrix(test_pred,y_test))"
   ]
  },
  {
   "cell_type": "markdown",
   "metadata": {},
   "source": [
    "rf=RandomForestClassifier()\n",
    "rf.fit(x_train,y_train)\n",
    "train_pred=rf.predict(x_train)\n",
    "print('accuracy',accuracy_score(train_pred,y_train))\n",
    "print('confudion matrinx',confusion_matrix(train_pred,y_train))\n",
    "test_pred=rf.predict(x_test)\n",
    "print('accuracy',accuracy_score(test_pred,y_test))\n",
    "print('confudion matrinx',confusion_matrix(test_pred,y_test))"
   ]
  },
  {
   "cell_type": "markdown",
   "metadata": {},
   "source": [
    "now i will predict the output as proba"
   ]
  },
  {
   "cell_type": "code",
   "execution_count": 50,
   "metadata": {},
   "outputs": [
    {
     "data": {
      "text/plain": [
       "0    1  \n",
       "1.0  0.0    3864\n",
       "0.0  1.0     636\n",
       "dtype: int64"
      ]
     },
     "execution_count": 50,
     "metadata": {},
     "output_type": "execute_result"
    }
   ],
   "source": [
    "dt=DecisionTreeClassifier()\n",
    "dt.fit(x_train,y_train)\n",
    "dt_x_train_pred=dt.predict_proba(x_train)\n",
    "pd.DataFrame(dt_x_train_pred).value_counts()"
   ]
  },
  {
   "cell_type": "code",
   "execution_count": 51,
   "metadata": {},
   "outputs": [
    {
     "name": "stderr",
     "output_type": "stream",
     "text": [
      "C:\\Users\\Wajih\\AppData\\Local\\Temp\\ipykernel_11152\\1787552973.py:2: DataConversionWarning: A column-vector y was passed when a 1d array was expected. Please change the shape of y to (n_samples,), for example using ravel().\n",
      "  rf.fit(x_train,y_train)\n"
     ]
    },
    {
     "data": {
      "text/plain": [
       "(76,)"
      ]
     },
     "execution_count": 51,
     "metadata": {},
     "output_type": "execute_result"
    }
   ],
   "source": [
    "rf=RandomForestClassifier()\n",
    "rf.fit(x_train,y_train)\n",
    "dt_x_train_pred=rf.predict_proba(x_train)\n",
    "pd.DataFrame(dt_x_train_pred).value_counts().shape"
   ]
  },
  {
   "cell_type": "markdown",
   "metadata": {},
   "source": [
    "now we will predict the missing data of churn"
   ]
  },
  {
   "cell_type": "code",
   "execution_count": 52,
   "metadata": {},
   "outputs": [
    {
     "data": {
      "text/html": [
       "<div>\n",
       "<style scoped>\n",
       "    .dataframe tbody tr th:only-of-type {\n",
       "        vertical-align: middle;\n",
       "    }\n",
       "\n",
       "    .dataframe tbody tr th {\n",
       "        vertical-align: top;\n",
       "    }\n",
       "\n",
       "    .dataframe thead th {\n",
       "        text-align: right;\n",
       "    }\n",
       "</style>\n",
       "<table border=\"1\" class=\"dataframe\">\n",
       "  <thead>\n",
       "    <tr style=\"text-align: right;\">\n",
       "      <th></th>\n",
       "      <th>nb_jours_abonne</th>\n",
       "      <th>duree_appel_jour(minutes)</th>\n",
       "      <th>nb_appel_jour</th>\n",
       "      <th>cout_appel_jour</th>\n",
       "      <th>duree_appel_soiree(minutes)</th>\n",
       "      <th>nb_appel_soiree</th>\n",
       "      <th>cout_appel_soiree</th>\n",
       "      <th>duree_appel_nuit(minutes)</th>\n",
       "      <th>nb_appel_nuit</th>\n",
       "      <th>cout_appel_nuit</th>\n",
       "      <th>duree_appel_inter(minutes)</th>\n",
       "      <th>nb_appel_inter</th>\n",
       "      <th>cout_appel_inter</th>\n",
       "      <th>active_msg_vocaux</th>\n",
       "      <th>nb_msg_vocaux</th>\n",
       "      <th>nb_reclamation</th>\n",
       "      <th>churn</th>\n",
       "    </tr>\n",
       "  </thead>\n",
       "  <tbody>\n",
       "    <tr>\n",
       "      <th>count</th>\n",
       "      <td>5000.000000</td>\n",
       "      <td>5000.000000</td>\n",
       "      <td>5000.000000</td>\n",
       "      <td>5000.000000</td>\n",
       "      <td>5000.000000</td>\n",
       "      <td>5000.000000</td>\n",
       "      <td>5000.000000</td>\n",
       "      <td>5000.000000</td>\n",
       "      <td>5000.000000</td>\n",
       "      <td>5000.000000</td>\n",
       "      <td>5000.000000</td>\n",
       "      <td>5000.000000</td>\n",
       "      <td>5000.000000</td>\n",
       "      <td>5000.000000</td>\n",
       "      <td>5000.000000</td>\n",
       "      <td>5000.000000</td>\n",
       "      <td>5000.000000</td>\n",
       "    </tr>\n",
       "    <tr>\n",
       "      <th>mean</th>\n",
       "      <td>100.279158</td>\n",
       "      <td>180.288900</td>\n",
       "      <td>100.011146</td>\n",
       "      <td>30.649672</td>\n",
       "      <td>200.636560</td>\n",
       "      <td>100.173559</td>\n",
       "      <td>17.054322</td>\n",
       "      <td>200.391620</td>\n",
       "      <td>99.864480</td>\n",
       "      <td>9.017732</td>\n",
       "      <td>10.261780</td>\n",
       "      <td>4.437769</td>\n",
       "      <td>2.771196</td>\n",
       "      <td>0.267800</td>\n",
       "      <td>7.755200</td>\n",
       "      <td>1.571772</td>\n",
       "      <td>0.141400</td>\n",
       "    </tr>\n",
       "    <tr>\n",
       "      <th>std</th>\n",
       "      <td>39.691902</td>\n",
       "      <td>53.894699</td>\n",
       "      <td>19.880579</td>\n",
       "      <td>9.162067</td>\n",
       "      <td>50.551309</td>\n",
       "      <td>19.847660</td>\n",
       "      <td>4.296843</td>\n",
       "      <td>50.527789</td>\n",
       "      <td>19.989226</td>\n",
       "      <td>2.273763</td>\n",
       "      <td>2.761396</td>\n",
       "      <td>2.457522</td>\n",
       "      <td>0.745514</td>\n",
       "      <td>0.446456</td>\n",
       "      <td>13.546393</td>\n",
       "      <td>1.306064</td>\n",
       "      <td>0.348469</td>\n",
       "    </tr>\n",
       "    <tr>\n",
       "      <th>min</th>\n",
       "      <td>1.000000</td>\n",
       "      <td>0.000000</td>\n",
       "      <td>0.000000</td>\n",
       "      <td>0.000000</td>\n",
       "      <td>0.000000</td>\n",
       "      <td>0.000000</td>\n",
       "      <td>0.000000</td>\n",
       "      <td>0.000000</td>\n",
       "      <td>0.000000</td>\n",
       "      <td>0.000000</td>\n",
       "      <td>0.000000</td>\n",
       "      <td>0.000000</td>\n",
       "      <td>0.000000</td>\n",
       "      <td>0.000000</td>\n",
       "      <td>0.000000</td>\n",
       "      <td>0.000000</td>\n",
       "      <td>0.000000</td>\n",
       "    </tr>\n",
       "    <tr>\n",
       "      <th>25%</th>\n",
       "      <td>73.000000</td>\n",
       "      <td>143.700000</td>\n",
       "      <td>87.000000</td>\n",
       "      <td>24.430000</td>\n",
       "      <td>166.375000</td>\n",
       "      <td>87.000000</td>\n",
       "      <td>14.140000</td>\n",
       "      <td>166.900000</td>\n",
       "      <td>86.000000</td>\n",
       "      <td>7.510000</td>\n",
       "      <td>8.500000</td>\n",
       "      <td>3.000000</td>\n",
       "      <td>2.300000</td>\n",
       "      <td>0.000000</td>\n",
       "      <td>0.000000</td>\n",
       "      <td>1.000000</td>\n",
       "      <td>0.000000</td>\n",
       "    </tr>\n",
       "    <tr>\n",
       "      <th>50%</th>\n",
       "      <td>100.000000</td>\n",
       "      <td>180.100000</td>\n",
       "      <td>100.000000</td>\n",
       "      <td>30.620000</td>\n",
       "      <td>201.000000</td>\n",
       "      <td>100.000000</td>\n",
       "      <td>17.090000</td>\n",
       "      <td>200.400000</td>\n",
       "      <td>100.000000</td>\n",
       "      <td>9.020000</td>\n",
       "      <td>10.300000</td>\n",
       "      <td>4.000000</td>\n",
       "      <td>2.780000</td>\n",
       "      <td>0.000000</td>\n",
       "      <td>0.000000</td>\n",
       "      <td>1.000000</td>\n",
       "      <td>0.000000</td>\n",
       "    </tr>\n",
       "    <tr>\n",
       "      <th>75%</th>\n",
       "      <td>127.000000</td>\n",
       "      <td>216.200000</td>\n",
       "      <td>113.000000</td>\n",
       "      <td>36.750000</td>\n",
       "      <td>234.100000</td>\n",
       "      <td>114.000000</td>\n",
       "      <td>19.900000</td>\n",
       "      <td>234.700000</td>\n",
       "      <td>113.000000</td>\n",
       "      <td>10.560000</td>\n",
       "      <td>12.000000</td>\n",
       "      <td>6.000000</td>\n",
       "      <td>3.240000</td>\n",
       "      <td>1.000000</td>\n",
       "      <td>17.000000</td>\n",
       "      <td>2.000000</td>\n",
       "      <td>0.000000</td>\n",
       "    </tr>\n",
       "    <tr>\n",
       "      <th>max</th>\n",
       "      <td>243.000000</td>\n",
       "      <td>351.500000</td>\n",
       "      <td>165.000000</td>\n",
       "      <td>59.760000</td>\n",
       "      <td>363.700000</td>\n",
       "      <td>170.000000</td>\n",
       "      <td>30.910000</td>\n",
       "      <td>395.000000</td>\n",
       "      <td>175.000000</td>\n",
       "      <td>17.770000</td>\n",
       "      <td>20.000000</td>\n",
       "      <td>20.000000</td>\n",
       "      <td>5.400000</td>\n",
       "      <td>2.000000</td>\n",
       "      <td>52.000000</td>\n",
       "      <td>9.000000</td>\n",
       "      <td>1.000000</td>\n",
       "    </tr>\n",
       "  </tbody>\n",
       "</table>\n",
       "</div>"
      ],
      "text/plain": [
       "       nb_jours_abonne  duree_appel_jour(minutes)  nb_appel_jour  \\\n",
       "count      5000.000000                5000.000000    5000.000000   \n",
       "mean        100.279158                 180.288900     100.011146   \n",
       "std          39.691902                  53.894699      19.880579   \n",
       "min           1.000000                   0.000000       0.000000   \n",
       "25%          73.000000                 143.700000      87.000000   \n",
       "50%         100.000000                 180.100000     100.000000   \n",
       "75%         127.000000                 216.200000     113.000000   \n",
       "max         243.000000                 351.500000     165.000000   \n",
       "\n",
       "       cout_appel_jour  duree_appel_soiree(minutes)  nb_appel_soiree  \\\n",
       "count      5000.000000                  5000.000000      5000.000000   \n",
       "mean         30.649672                   200.636560       100.173559   \n",
       "std           9.162067                    50.551309        19.847660   \n",
       "min           0.000000                     0.000000         0.000000   \n",
       "25%          24.430000                   166.375000        87.000000   \n",
       "50%          30.620000                   201.000000       100.000000   \n",
       "75%          36.750000                   234.100000       114.000000   \n",
       "max          59.760000                   363.700000       170.000000   \n",
       "\n",
       "       cout_appel_soiree  duree_appel_nuit(minutes)  nb_appel_nuit  \\\n",
       "count        5000.000000                5000.000000    5000.000000   \n",
       "mean           17.054322                 200.391620      99.864480   \n",
       "std             4.296843                  50.527789      19.989226   \n",
       "min             0.000000                   0.000000       0.000000   \n",
       "25%            14.140000                 166.900000      86.000000   \n",
       "50%            17.090000                 200.400000     100.000000   \n",
       "75%            19.900000                 234.700000     113.000000   \n",
       "max            30.910000                 395.000000     175.000000   \n",
       "\n",
       "       cout_appel_nuit  duree_appel_inter(minutes)  nb_appel_inter  \\\n",
       "count      5000.000000                 5000.000000     5000.000000   \n",
       "mean          9.017732                   10.261780        4.437769   \n",
       "std           2.273763                    2.761396        2.457522   \n",
       "min           0.000000                    0.000000        0.000000   \n",
       "25%           7.510000                    8.500000        3.000000   \n",
       "50%           9.020000                   10.300000        4.000000   \n",
       "75%          10.560000                   12.000000        6.000000   \n",
       "max          17.770000                   20.000000       20.000000   \n",
       "\n",
       "       cout_appel_inter  active_msg_vocaux  nb_msg_vocaux  nb_reclamation  \\\n",
       "count       5000.000000        5000.000000    5000.000000     5000.000000   \n",
       "mean           2.771196           0.267800       7.755200        1.571772   \n",
       "std            0.745514           0.446456      13.546393        1.306064   \n",
       "min            0.000000           0.000000       0.000000        0.000000   \n",
       "25%            2.300000           0.000000       0.000000        1.000000   \n",
       "50%            2.780000           0.000000       0.000000        1.000000   \n",
       "75%            3.240000           1.000000      17.000000        2.000000   \n",
       "max            5.400000           2.000000      52.000000        9.000000   \n",
       "\n",
       "             churn  \n",
       "count  5000.000000  \n",
       "mean      0.141400  \n",
       "std       0.348469  \n",
       "min       0.000000  \n",
       "25%       0.000000  \n",
       "50%       0.000000  \n",
       "75%       0.000000  \n",
       "max       1.000000  "
      ]
     },
     "execution_count": 52,
     "metadata": {},
     "output_type": "execute_result"
    }
   ],
   "source": [
    "data.describe()"
   ]
  },
  {
   "cell_type": "code",
   "execution_count": 53,
   "metadata": {
    "colab": {
     "base_uri": "https://localhost:8080/"
    },
    "id": "hYOPZElwq5-d",
    "outputId": "9afa32f9-61c4-4d51-9662-397031c9a1cf"
   },
   "outputs": [
    {
     "name": "stdout",
     "output_type": "stream",
     "text": [
      "accuracy 0.521923620933522\n"
     ]
    }
   ],
   "source": [
    "ch0=data[data['churn']==0].sample(707)\n",
    "data2=pd.concat([ch0,data[data['churn']==1]])\n",
    "data22=data2.sample(1414)\n",
    "x2=data22.iloc[:,:-1]\n",
    "y2=data22.iloc[:,-1:]\n",
    "pred2=lr.predict(x2)\n",
    "print('accuracy',accuracy_score(y2,pred2))"
   ]
  },
  {
   "cell_type": "code",
   "execution_count": 54,
   "metadata": {
    "colab": {
     "base_uri": "https://localhost:8080/"
    },
    "id": "f5Gb0QLaXQos",
    "outputId": "3640b960-93aa-4c29-9634-2287f7d52f2d"
   },
   "outputs": [
    {
     "data": {
      "text/plain": [
       "Series([], Name: churn, dtype: int32)"
      ]
     },
     "execution_count": 54,
     "metadata": {},
     "output_type": "execute_result"
    }
   ],
   "source": [
    "data['churn'][data['churn']==2]"
   ]
  },
  {
   "cell_type": "code",
   "execution_count": 55,
   "metadata": {
    "colab": {
     "base_uri": "https://localhost:8080/"
    },
    "id": "RjQhXSdAnedN",
    "outputId": "871f19e9-ec37-41ce-c228-6eb219fefc46"
   },
   "outputs": [
    {
     "data": {
      "text/plain": [
       "nb_jours_abonne                0\n",
       "duree_appel_jour(minutes)      0\n",
       "nb_appel_jour                  0\n",
       "cout_appel_jour                0\n",
       "duree_appel_soiree(minutes)    0\n",
       "nb_appel_soiree                0\n",
       "cout_appel_soiree              0\n",
       "duree_appel_nuit(minutes)      0\n",
       "nb_appel_nuit                  0\n",
       "cout_appel_nuit                0\n",
       "duree_appel_inter(minutes)     0\n",
       "nb_appel_inter                 0\n",
       "cout_appel_inter               0\n",
       "active_msg_vocaux              0\n",
       "nb_msg_vocaux                  0\n",
       "nb_reclamation                 0\n",
       "churn                          0\n",
       "dtype: int64"
      ]
     },
     "execution_count": 55,
     "metadata": {},
     "output_type": "execute_result"
    }
   ],
   "source": [
    "data.isnull().sum()"
   ]
  },
  {
   "cell_type": "code",
   "execution_count": 56,
   "metadata": {
    "colab": {
     "base_uri": "https://localhost:8080/"
    },
    "id": "3YBGic-Q8KwZ",
    "outputId": "6d58f321-a55a-4528-bb71-8bf9759b1e2e"
   },
   "outputs": [
    {
     "data": {
      "text/plain": [
       "2.255405618463095"
      ]
     },
     "execution_count": 56,
     "metadata": {},
     "output_type": "execute_result"
    }
   ],
   "source": [
    "data[data['churn']==0]['nb_reclamation'].mean()\n",
    "data[data['churn']==1]['nb_reclamation'].mean()"
   ]
  },
  {
   "cell_type": "code",
   "execution_count": 57,
   "metadata": {
    "colab": {
     "base_uri": "https://localhost:8080/"
    },
    "id": "6RnQ3AR5eOI1",
    "outputId": "2fc9ab78-fede-4e4b-e3cb-fd8cd223d6b3"
   },
   "outputs": [
    {
     "data": {
      "text/plain": [
       "Index(['nb_jours_abonne', 'duree_appel_jour(minutes)', 'nb_appel_jour',\n",
       "       'cout_appel_jour', 'duree_appel_soiree(minutes)', 'nb_appel_soiree',\n",
       "       'cout_appel_soiree', 'duree_appel_nuit(minutes)', 'nb_appel_nuit',\n",
       "       'cout_appel_nuit', 'duree_appel_inter(minutes)', 'nb_appel_inter',\n",
       "       'cout_appel_inter', 'active_msg_vocaux', 'nb_msg_vocaux',\n",
       "       'nb_reclamation', 'churn'],\n",
       "      dtype='object')"
      ]
     },
     "execution_count": 57,
     "metadata": {},
     "output_type": "execute_result"
    }
   ],
   "source": [
    "data.columns"
   ]
  },
  {
   "cell_type": "markdown",
   "metadata": {
    "id": "4hPDPJl6SBgz"
   },
   "source": [
    "plots"
   ]
  },
  {
   "cell_type": "code",
   "execution_count": 58,
   "metadata": {
    "colab": {
     "base_uri": "https://localhost:8080/",
     "height": 448
    },
    "id": "cOWo1GzPPc23",
    "outputId": "c2a1630f-6927-4342-ad9e-36cff8d94f3b"
   },
   "outputs": [
    {
     "data": {
      "text/plain": [
       "<matplotlib.collections.PathCollection at 0x1f64a9a7040>"
      ]
     },
     "execution_count": 58,
     "metadata": {},
     "output_type": "execute_result"
    },
    {
     "data": {
      "image/png": "[encoded data removed]",
      "text/plain": [
       "<Figure size 640x480 with 1 Axes>"
      ]
     },
     "metadata": {},
     "output_type": "display_data"
    }
   ],
   "source": [
    "plt.scatter(data['nb_jours_abonne'],data['duree_appel_jour(minutes)'])"
   ]
  },
  {
   "cell_type": "code",
   "execution_count": 59,
   "metadata": {
    "colab": {
     "base_uri": "https://localhost:8080/",
     "height": 448
    },
    "id": "5M-ZGOnceoUq",
    "outputId": "f172d59b-bf63-4343-e25c-ab5152f8e268"
   },
   "outputs": [
    {
     "data": {
      "text/plain": [
       "<matplotlib.collections.PathCollection at 0x1f64bb85930>"
      ]
     },
     "execution_count": 59,
     "metadata": {},
     "output_type": "execute_result"
    },
    {
     "data": {
      "image/png": "[encoded data removed]",
      "text/plain": [
       "<Figure size 640x480 with 1 Axes>"
      ]
     },
     "metadata": {},
     "output_type": "display_data"
    }
   ],
   "source": [
    "plt.scatter(data['nb_jours_abonne'],data['nb_appel_jour'])"
   ]
  },
  {
   "cell_type": "code",
   "execution_count": 60,
   "metadata": {
    "colab": {
     "base_uri": "https://localhost:8080/",
     "height": 448
    },
    "id": "8GVxPJTNe0Cm",
    "outputId": "3cf1c6c9-1c83-4ee8-b621-8eaf439c0dc8"
   },
   "outputs": [
    {
     "data": {
      "text/plain": [
       "<matplotlib.collections.PathCollection at 0x1f64bbe70d0>"
      ]
     },
     "execution_count": 60,
     "metadata": {},
     "output_type": "execute_result"
    },
    {
     "data": {
      "image/png": "[encoded data removed]",
      "text/plain": [
       "<Figure size 640x480 with 1 Axes>"
      ]
     },
     "metadata": {},
     "output_type": "display_data"
    }
   ],
   "source": [
    "plt.scatter(data['nb_jours_abonne'],data['cout_appel_jour'])"
   ]
  },
  {
   "cell_type": "code",
   "execution_count": 61,
   "metadata": {
    "colab": {
     "base_uri": "https://localhost:8080/",
     "height": 448
    },
    "id": "8YaTxyRmfAiW",
    "outputId": "db532ba4-a470-4329-8915-2abb3eb4e122"
   },
   "outputs": [
    {
     "data": {
      "text/plain": [
       "<matplotlib.collections.PathCollection at 0x1f64a99cbe0>"
      ]
     },
     "execution_count": 61,
     "metadata": {},
     "output_type": "execute_result"
    },
    {
     "data": {
      "image/png": "[encoded data removed]",
      "text/plain": [
       "<Figure size 640x480 with 1 Axes>"
      ]
     },
     "metadata": {},
     "output_type": "display_data"
    }
   ],
   "source": [
    "plt.scatter(data['nb_jours_abonne'],data['active_msg_vocaux'])"
   ]
  },
  {
   "cell_type": "code",
   "execution_count": 62,
   "metadata": {
    "colab": {
     "base_uri": "https://localhost:8080/",
     "height": 448
    },
    "id": "SSOD_IhzfGjS",
    "outputId": "7d0443cf-64fb-4657-f6b6-bdf648ec2916"
   },
   "outputs": [
    {
     "data": {
      "text/plain": [
       "<matplotlib.collections.PathCollection at 0x1f64bc18bb0>"
      ]
     },
     "execution_count": 62,
     "metadata": {},
     "output_type": "execute_result"
    },
    {
     "data": {
      "image/png": "[encoded data removed]",
      "text/plain": [
       "<Figure size 640x480 with 1 Axes>"
      ]
     },
     "metadata": {},
     "output_type": "display_data"
    }
   ],
   "source": [
    "plt.scatter(data['nb_jours_abonne'],data['nb_msg_vocaux'])"
   ]
  },
  {
   "cell_type": "code",
   "execution_count": 63,
   "metadata": {
    "colab": {
     "base_uri": "https://localhost:8080/",
     "height": 448
    },
    "id": "sh8imQ-ofPVp",
    "outputId": "82e4fc13-848a-4353-8c3d-e40892bf0e9d"
   },
   "outputs": [
    {
     "data": {
      "text/plain": [
       "<matplotlib.collections.PathCollection at 0x1f64ba24b20>"
      ]
     },
     "execution_count": 63,
     "metadata": {},
     "output_type": "execute_result"
    },
    {
     "data": {
      "image/png": "[encoded data removed]",
      "text/plain": [
       "<Figure size 640x480 with 1 Axes>"
      ]
     },
     "metadata": {},
     "output_type": "display_data"
    }
   ],
   "source": [
    "plt.scatter(data['churn'],data['nb_reclamation'])"
   ]
  },
  {
   "cell_type": "code",
   "execution_count": 64,
   "metadata": {
    "colab": {
     "base_uri": "https://localhost:8080/"
    },
    "id": "KAxAzSODppRN",
    "outputId": "aa567a06-5903-41f2-f3bd-136b21edb9aa"
   },
   "outputs": [
    {
     "name": "stdout",
     "output_type": "stream",
     "text": [
      "nb_reclamatoin pour churn= false  1.459186931001046\n",
      "nb_reclamatoin pour churn= true  2.255405618463095\n"
     ]
    }
   ],
   "source": [
    "print('nb_reclamatoin pour churn= false ',data['nb_reclamation'][data['churn']==0].mean())\n",
    "print('nb_reclamatoin pour churn= true ',data['nb_reclamation'][data['churn']==1].mean())"
   ]
  },
  {
   "cell_type": "code",
   "execution_count": 65,
   "metadata": {
    "colab": {
     "base_uri": "https://localhost:8080/"
    },
    "id": "Y1pYLTOeqTHi",
    "outputId": "dc425227-3231-474e-ca3d-c1582e91e878"
   },
   "outputs": [
    {
     "data": {
      "text/plain": [
       "nb_jours_abonne                0.020995\n",
       "duree_appel_jour(minutes)      0.207705\n",
       "nb_appel_jour                  0.017586\n",
       "cout_appel_jour                0.207700\n",
       "duree_appel_soiree(minutes)    0.089288\n",
       "nb_appel_soiree               -0.005921\n",
       "cout_appel_soiree              0.089282\n",
       "duree_appel_nuit(minutes)      0.045677\n",
       "nb_appel_nuit                 -0.006547\n",
       "cout_appel_nuit                0.045673\n",
       "duree_appel_inter(minutes)     0.063285\n",
       "nb_appel_inter                -0.046864\n",
       "cout_appel_inter               0.063275\n",
       "active_msg_vocaux             -0.109724\n",
       "nb_msg_vocaux                 -0.097633\n",
       "nb_reclamation                 0.212438\n",
       "churn                          1.000000\n",
       "Name: churn, dtype: float64"
      ]
     },
     "execution_count": 65,
     "metadata": {},
     "output_type": "execute_result"
    }
   ],
   "source": [
    "c=data.corr()\n",
    "churn_corr=c['churn']\n",
    "churn_corr"
   ]
  },
  {
   "cell_type": "code",
   "execution_count": 66,
   "metadata": {},
   "outputs": [
    {
     "data": {
      "text/plain": [
       "0    4293\n",
       "1     707\n",
       "Name: churn, dtype: int64"
      ]
     },
     "execution_count": 66,
     "metadata": {},
     "output_type": "execute_result"
    }
   ],
   "source": [
    "data['churn'].value_counts()"
   ]
  }
 ],
 "metadata": {
  "colab": {
   "provenance": []
  },
  "kernelspec": {
   "display_name": "Python 3 (ipykernel)",
   "language": "python",
   "name": "python3"
  },
  "language_info": {
   "codemirror_mode": {
    "name": "ipython",
    "version": 3
   },
   "file_extension": ".py",
   "mimetype": "text/x-python",
   "name": "python",
   "nbconvert_exporter": "python",
   "pygments_lexer": "ipython3",
   "version": "3.10.9"
  }
 },
 "nbformat": 4,
 "nbformat_minor": 1
}
